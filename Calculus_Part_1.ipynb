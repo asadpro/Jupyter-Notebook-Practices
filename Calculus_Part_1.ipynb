{
 "cells": [
  {
   "cell_type": "markdown",
   "id": "2e8f5e8c",
   "metadata": {},
   "source": [
    "<img src='https://i.postimg.cc/kMF8sq9m/delete.png' width=450px >\n",
    "\n",
    "Remember that $\\color{green}{2\\pi{r dr}}$ is the formula for finding area of a circle.\n",
    "\n",
    "> In the above image 'r' represent the radius of every individual circle and 'dr' represent the thickness of border of the circle and the spacing between different values of 'r'."
   ]
  },
  {
   "cell_type": "markdown",
   "id": "3479dadd",
   "metadata": {},
   "source": [
    "<img src='https://i.postimg.cc/kG3ZyCMP/delete.png'>\n",
    "\n",
    "Integral is used to find the total change in the given time interval.e.g How much of distance a car has covered in a given period of time.\n",
    "\n",
    "* In the image above 'dA' difference in Area.\n",
    "* 'dX' is the width of that change\n",
    "* $X^2$ is the Height.\n",
    "* We can apply the same concept for the area of under graph no mater it's parabola shape or some other shape.\n"
   ]
  },
  {
   "cell_type": "markdown",
   "id": "14d8e4c4",
   "metadata": {},
   "source": [
    "<h2 class='alert alert-success text-center'> Derivatives</h2>"
   ]
  },
  {
   "cell_type": "markdown",
   "id": "f0540021",
   "metadata": {},
   "source": [
    "<div style='display:flex'>\n",
    "    <p>Using pascal Triangle we can find </p>    \n",
    "<img src='https://i.postimg.cc/8cMZvh43/delete.png' width=450px >\n",
    "</div>\n"
   ]
  }
 ],
 "metadata": {
  "kernelspec": {
   "display_name": "Python 3 (ipykernel)",
   "language": "python",
   "name": "python3"
  },
  "language_info": {
   "codemirror_mode": {
    "name": "ipython",
    "version": 3
   },
   "file_extension": ".py",
   "mimetype": "text/x-python",
   "name": "python",
   "nbconvert_exporter": "python",
   "pygments_lexer": "ipython3",
   "version": "3.10.8"
  }
 },
 "nbformat": 4,
 "nbformat_minor": 5
}
