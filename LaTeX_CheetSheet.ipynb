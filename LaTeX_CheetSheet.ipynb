{
 "cells": [
  {
   "cell_type": "markdown",
   "id": "3b027495",
   "metadata": {},
   "source": [
    "## There are three ways to enter “math mode” and present a mathematical expression in LaTeX:\n",
    "## Inline\n",
    "inserting math equation in the middle of a line<br>\n",
    "e.g.\n",
    "    $E=mc^2$\n",
    "    \n",
    "<hr style='height:14px; background-color:green; '>\n",
    "\n",
    "### Equation \n",
    "\n",
    "when we want to showcase an equation on the separate line place the math expression between \\[ and \\] \n",
    "<br>\n",
    "e.g.\n",
    "\n",
    "$x=\\frac{-b\\pm\\sqrt{b^2-4ac}}{2a} \\$\n",
    "    \n",
    "[ ]: Delimiters that indicate the beginning and end of a display equation.\n",
    "\n",
    "\\frac{}{}: Fraction command, used to write fractions in LaTeX. The numerator is placed between the first set of curly brackets and the denominator is placed between the second set.\n",
    "\n",
    "-b: Negative b, written as -b.\n",
    "\n",
    "\\pm: The plus-minus symbol, used to indicate two solutions in the quadratic formula.\n",
    "\n",
    "\\sqrt{}: Square root symbol, used to indicate the square root of the expression inside the curly brackets.\n",
    "\n",
    "b^2: b squared, written as b^2.\n",
    "\n",
    "4ac: The product of 4, a and c.\n",
    "<hr style='height:14px; background-color:green; '>\n",
    "\n",
    "### DisplayStyle\n",
    "\n",
    "To get full-sized inline mathematical expressions use \\displaystyle.\n",
    "\n",
    "e.g.\n",
    "i want $\\displaystyle \\sum_{n=1}^{\\infty}\\frac{1}{n}$, not this $\\sum_{n=1}^{\\infty}{\\frac{1}{n}}$."
   ]
  },
  {
   "cell_type": "markdown",
   "id": "d2f86493",
   "metadata": {},
   "source": [
    "## 3 Symbols (in math mode)\n",
    "\n",
    "As discussed above math mode in LaTeX happens inside the dollar signs `($...$ )`, inside the square brackets `\\[...\\]` and inside `equation` and `displaystyle` environments. Here’s a cheatsheet showing what is possible in a math environment:\n",
    "\n",
    "<i> Inserting table into markdown </i>\n",
    "\n",
    "| description | command | output |\n",
    "|-------------|---------|--------|\n",
    "|addition     |    +    |    +   | \n",
    "|subtraction  |    \\pm  |    -   | \n",
    "|plus or minus|    +    |    +   | \n",
    "\n",
    "![CheetSheet to different math mode in LaTeX](https://i.postimg.cc/3wLS28hm/delete.png)"
   ]
  },
  {
   "cell_type": "markdown",
   "id": "eca6c8f5",
   "metadata": {},
   "source": [
    "## Practicing Above\n",
    "* $+$\n",
    "* $-$\n",
    "* $\\pm$\n",
    "* $\\times$\n",
    "* $\\cdot$\n",
    "* $\\div$\n",
    "* $/$\n",
    "* $\\text{text}$ \n",
    "* $\\infty$\n",
    "* $1,2,3,...$\n",
    "* $ 1 + 2 + 3 + \\cdots$\n",
    "* $\\frac{a}{b}$\n",
    "* $\\sqrt{x}$\n",
    "* $\\sqrt[n]{x}$\n",
    "* $a^b$\n",
    "* $a_b$\n",
    "* $|x|$\n",
    "* $\\ln(x)$\n",
    "* $log_a b$\n",
    "* $e^x = \\exp(x)$\n",
    "* $\\deg(f)$\n",
    "* $\\circ$\n",
    "* $\\prime\\prime$\n",
    "* $\\ne$\n",
    "* $\\lt$\n",
    "* $\\le$\n",
    "* $\\ge$\n",
    "* $\\approx$"
   ]
  },
  {
   "cell_type": "markdown",
   "id": "ea11e71c",
   "metadata": {},
   "source": [
    "![Functions and it's usage](https://i.postimg.cc/zG3wgndD/delete.png)"
   ]
  },
  {
   "cell_type": "markdown",
   "id": "d8418f74",
   "metadata": {},
   "source": [
    "* $\\alpha$\n",
    "* $\\beta$\n",
    "* $\\delta$\n",
    "* $\\epsilon$\n",
    "* $\\varepsilon$\n",
    "* $\\iota$\n",
    "* $\\lambda$\n",
    "* $\\Lambda$\n",
    "* $\\omega$\n",
    "* $\\Omega$\n",
    "* $\\pi$\n",
    "* $\\Pi$\n",
    "* $\\sigma$\n",
    "* $\\emptyset$\n",
    "* $\\triangle$\n",
    "* $\\sum$"
   ]
  },
  {
   "attachments": {},
   "cell_type": "markdown",
   "id": "ddc39632",
   "metadata": {},
   "source": [
    "![Vectors and it's usage](https://i.postimg.cc/DZWyQw9X/delete.png)"
   ]
  },
  {
   "cell_type": "markdown",
   "id": "1a3c8cb5",
   "metadata": {},
   "source": [
    "- $\\{1,2,3\\}$\n",
    "- $\\in$\n",
    "- $\\subset$\n",
    "- $\\subseteq$\n",
    "- $\\supset$\n",
    "- $\\supseteq$\n",
    "- $\\cup$\n",
    "- $\\cap$\n",
    "- $\\bigcup_{n=1}^{10}{A_n}$\n",
    "- $\\bigcap_{n=1}^{10}{A_n}$\n",
    "- $\\emptyset$\n",
    "- $\\min \\max \\sup \\inf$\n",
    "- $\\overline{A}$\n"
   ]
  },
  {
   "cell_type": "markdown",
   "id": "60af4f30",
   "metadata": {},
   "source": [
    "![Logic and Calculus](https://i.postimg.cc/tgsHwmB0/delete.png)"
   ]
  },
  {
   "cell_type": "markdown",
   "id": "48e7a22d",
   "metadata": {},
   "source": [
    "* $\\sim$\n",
    "* $\\land$\n",
    "* $\\lor$\n",
    "* $\\to$\n",
    "* $\\leftrightarrow$\n",
    "* $\\Leftrightarrow$\n",
    "* $\\equiv$\n",
    "* $\\therefore$\n",
    "* $\\exists$\n",
    "* $\\Rightarrow$\n",
    "* $\\Leftarrow$\n",
    "* $\\Leftrightarrow$\n",
    "\n",
    "***\n",
    "* $\\frac{df}{dx}$\n",
    "* $f'$\n",
    "* $\\frac{\\partial f}{\\partial x}$\n",
    "* $\\lim_{x\\to \\infty}$\n",
    "* $\\sum_{n=1}^{\\infty}{a_n}$\n",
    "* $\\prod_{n=1}^{\\infty}{a_n}$\n",
    "* $\\int$\n",
    "* $\\iint$\n",
    "* $\\iiint$\n",
    "\n"
   ]
  },
  {
   "attachments": {},
   "cell_type": "markdown",
   "id": "1a6fbc7b",
   "metadata": {},
   "source": [
    "![Number theory](https://i.postimg.cc/bYxRcxVd/delete.png)"
   ]
  },
  {
   "cell_type": "markdown",
   "id": "7aecf174",
   "metadata": {},
   "source": [
    "* $\\angle {ABC}$\n",
    "* $90^\\circ$\n",
    "* $\\triangle {ABC}$\n",
    "* $\\overline{AB}$\n",
    "* $\\sin$\n",
    "* $\\cos$"
   ]
  },
  {
   "cell_type": "markdown",
   "id": "517a04c7",
   "metadata": {},
   "source": [
    "![Symbols in text mode](https://i.postimg.cc/bv0vNw70/delete.png)"
   ]
  },
  {
   "cell_type": "markdown",
   "id": "fc2e70b5",
   "metadata": {},
   "source": [
    "* $f(x)=(x+a)(x+b)$\n",
    "* $\\begin{equation}\n",
    "50 \\text{ apples} \\times 100 \\text{ apples} =\n",
    "\\textbf{lots of apples}\n",
    "\\end{equation}$"
   ]
  },
  {
   "cell_type": "markdown",
   "id": "34b5dfc8",
   "metadata": {},
   "source": [
    "$k_{n+1} = n^2 + k_{n}^2 - k_{n-1}$"
   ]
  },
  {
   "cell_type": "markdown",
   "id": "a21bcd40",
   "metadata": {},
   "source": [
    "$\\cos(2\\theta\\emptyset)=cos^2\\theta\\emptyset-\\sin^2\\theta\\emptyset$"
   ]
  },
  {
   "cell_type": "markdown",
   "id": "0320fbc8",
   "metadata": {},
   "source": [
    "$(a+b)\\left[1-\\frac{b}{a+b}\\right]=a$"
   ]
  },
  {
   "cell_type": "markdown",
   "id": "2a594e6e",
   "metadata": {},
   "source": [
    "$\\sqrt{|xy|}\\le \\left|\\frac{x+y}{2}\\right|$"
   ]
  },
  {
   "cell_type": "markdown",
   "id": "3875b892",
   "metadata": {},
   "source": [
    "$\\int_{a}^{b} u\\frac{d^2v}{dx^2} dx = \\left.u\\frac{dv}{dx} \\right|_a^b - \\int_a^b \\frac{du}{dx}\\frac{dv}{dx}dx.$ "
   ]
  },
  {
   "cell_type": "markdown",
   "id": "6c1125d8",
   "metadata": {},
   "source": [
    "$u=\\frac{-y}{x^2 + y^2}, v=\\frac{x}{x^2 + y^2}, \\text {and} \\quad w=0.$"
   ]
  },
  {
   "cell_type": "markdown",
   "id": "db680d72",
   "metadata": {},
   "source": [
    "As the fractions continue, they get smaller. If we want to keep the size consistent, use the display style; e.g.\n",
    "\n",
    "$\\displaystyle x=a^0 + \\frac{1}{a_1+\\frac{1}{a_2+\\frac{1}{a_3+a_4}}}\\displaystyle$"
   ]
  },
  {
   "cell_type": "markdown",
   "id": "f942abb0",
   "metadata": {},
   "source": [
    "> Equations with and without 'displaystyle'\n",
    "The difference may not be very visible but displaystyle \n",
    "gives documents more better spacing for equations.\n",
    "\n",
    "Without display:\n",
    "$a = b + c$\n",
    "\n",
    "With display:\n",
    "$\\displaystyle a = b + c$"
   ]
  },
  {
   "cell_type": "markdown",
   "id": "67b10463",
   "metadata": {},
   "source": [
    "$\\begin{bmatrix} 1&x&0 \\\\ 0&1&-1\\end{bmatrix} \\begin{bmatrix} 1\\\\y\\\\1\\end{bmatrix} = \\begin{bmatrix} 1 + xy\\\\y-1\\end{bmatrix}.$"
   ]
  },
  {
   "cell_type": "markdown",
   "id": "b670d12d",
   "metadata": {},
   "source": [
    "$\\begin{pmatrix}2&3&4\\\\5&6&7\\\\8&9&10\\end{pmatrix}v=0$"
   ]
  },
  {
   "cell_type": "markdown",
   "id": "298b0a8c",
   "metadata": {},
   "source": [
    "$|x|=\\begin{cases}\n",
    "x, & \\text{if }x\\geq 0\\,,  \\\\\n",
    "-x, & \\text{if }x< 0\\,.\n",
    "\\end{cases}$"
   ]
  },
  {
   "cell_type": "markdown",
   "id": "d95c79ad",
   "metadata": {},
   "source": [
    "$\\begin{bmatrix}-2 & 1 & 0 & 0 &\\cdots & 0 \\\\ 1 & -2 & 1 & 0 &\\cdots & 0 \\\\ 0 & 1 & -2 & 1 & \\cdots&0 \\\\ 0 & 2 & 1 & -2& \\ddots & \\vdots \\end{bmatrix}$"
   ]
  },
  {
   "cell_type": "markdown",
   "id": "66e9676d",
   "metadata": {},
   "source": [
    "$\\tilde f (\\omega) = \\frac{1}{2\\pi}\\int_{-\\infty}^{\\infty} f(x) e^{-iwx} dx , \\\\or \\\\ \\dot{\\vec\\omega = \\vec r x \\vec I.} $"
   ]
  }
 ],
 "metadata": {
  "kernelspec": {
   "display_name": "Python 3 (ipykernel)",
   "language": "python",
   "name": "python3"
  },
  "language_info": {
   "codemirror_mode": {
    "name": "ipython",
    "version": 3
   },
   "file_extension": ".py",
   "mimetype": "text/x-python",
   "name": "python",
   "nbconvert_exporter": "python",
   "pygments_lexer": "ipython3",
   "version": "3.10.8"
  }
 },
 "nbformat": 4,
 "nbformat_minor": 5
}
