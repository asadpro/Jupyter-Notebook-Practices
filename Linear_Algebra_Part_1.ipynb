{
 "cells": [
  {
   "cell_type": "markdown",
   "id": "0133c4fe",
   "metadata": {},
   "source": [
    "## What are vectors?\n",
    "A vector such as $\\begin{bmatrix}-2\\\\3 \\end{bmatrix}$ Here -2 represent the x-axis and 3 represent y-axis or in other words `-2` is the magnitude (how long it is) and `3` is the direction.\n",
    "whereas 3D vector add an additional z-axis which can be used e.g. to locate the point in space or we can use it in velocity etc.\n",
    "A real-life example of using a 3D velocity vector to describe the motion of an object is the motion of an airplane. An airplane can be moving in the $x$ direction (forward), the $y$ direction (left or right), and the $z$ direction (up or down), all at the same time. By representing the velocity of the airplane as a 3D vector, we can describe its speed and direction of motion in three-dimensional space.\n",
    "\n",
    "In this way, 3D velocity vectors are useful in fields such as physics and engineering, where it is important to analyze and describe the motion of objects in three-dimensional space.\n",
    "***\n",
    "\n"
   ]
  },
  {
   "cell_type": "markdown",
   "id": "dbdedf95",
   "metadata": {},
   "source": [
    "## What are Scalars?\n",
    "Changing and squishing and sometimes the direction of the vector is called `scalling` and when we encounter numbers like (1, 1\\3, -1.8) etc is called scalars. \n",
    "In simple terms a vector is an ordered list of numbers e.g.\n",
    "$\\begin{pmatrix}a1 \\\\ a2\\\\ a3\\\\ \\vdots \\\\ a_n \\end{pmatrix} \\quad n-dimensional matrix$\n",
    "\n",
    "To go from point B to point A we will need to take 4 steps to the right and 2 steps up.\n",
    "\n",
    "This defines the vector $\\vec{x}=\\begin{bmatrix}4\\\\2 \\end{bmatrix}$\n",
    "Scalar is single value like temperature, force, direction but only one of it whereas Vector made up of combining multiple scalars. e.g force and direction.\n",
    "Below single value represent scalar while combining those values representing the vector.\n",
    "**Radian and Degree are both used to measure angle 1-Radian = 180-Degree\n",
    "\n",
    "\n",
    "<div style=\"display: flex;\">\n",
    "  <img src=\"https://i.postimg.cc/28d9C4Q5/delete.png\" style='width:400px'/>\n",
    "  <img src=\"https://riseandsine.com/wp-content/uploads/2021/10/radian-vs.-degree.png\"/ style='width:400px'>\n",
    "</div>\n",
    "\n",
    "#### To find circumference of something formula: $c=2\\pi r$\n",
    "\n"
   ]
  },
  {
   "cell_type": "markdown",
   "id": "353547a1",
   "metadata": {},
   "source": [
    "### Magnitude and Direction\n",
    "Each vector holds the magnitude as well as the direction of the movement.\n",
    "\n",
    "Let's calculate both for: $\\vec{x}=\\begin{bmatrix}4\\\\2 \\end{bmatrix}$\n",
    "\n",
    "<div>\n",
    "<img src=\"https://pt3mathematics.blog.onlinetuition.com.my/wp-content/uploads/sites/6/2015/01/Picture3.png\" style='width:400px')/>\n",
    "</div>\n",
    "\n",
    "<b>Pythagorean theorem said that summing both a & b leg of right angle triangle is equal to it's hypotenuse.\n",
    "   e.g. We can apply this on Tree where a (height of tree) & b (base of tree) now puting this into the above equation will gives\n",
    "    us the trunk(tanna in pashto) size of the tree."
   ]
  },
  {
   "cell_type": "markdown",
   "id": "bb6a6b36",
   "metadata": {},
   "source": [
    "In our example the magnitude will be calculated the following way:\n",
    "\n",
    "$||\\vec x|| = \\sqrt{4^2 + 2^2}$\n",
    "\n",
    "Where 4 is the horizontal (base of tree )component of the vector and 2 is the vertical (height of tree).\n",
    "\n",
    "$\\theta$ is a symbol used to represent the size of the angle.\n",
    "\n",
    "\n",
    "<p style=\"background-color: #ccffcc; padding:24px\">$\\therefore$ We take the square root of the above pythagorean theorem because we want the magnitude to be positive not negative because if we take square root of negative numbers it will gives us error.</p>\n"
   ]
  },
  {
   "cell_type": "markdown",
   "id": "88291a5b",
   "metadata": {},
   "source": [
    "### Scalar by vector multiplication\n",
    "To scale up or down the vector we need alpha (which is a scalar and it only have magnitude not direction bcz it's 1D) to multiply with vector e.g.\n",
    "\n",
    "$\\alpha\\vec{x}=\\begin{bmatrix}4\\\\2 \\end{bmatrix} \\text{multipy alpha with vector}\\Rightarrow \\begin{bmatrix} \\alpha 4 \\\\ \\alpha2\\end{bmatrix} \\text{Here alpha can be any scalar e.g. [2]}$ \n"
   ]
  },
  {
   "cell_type": "markdown",
   "id": "0411a18f",
   "metadata": {},
   "source": [
    "### Linear Combinations, Span and Basis Vectors. Part 1\n",
    "The \"Span\" of $\\vec v$ and $\\vec w$ is the set of all their linear combinations.\n",
    "\n",
    "Above these 'v' and 'w' vector is called basis vectors.\n",
    "\n",
    "$a\\vec v + b\\vec w\\\\ \\text{Let a and b vary over all real numbers.}$ \n",
    "Here above we have two scalars {a,b} where each of the scalar would be multiplied to the vector and then add all those in one single vector.\n",
    "**Linear combination**: Means that when we multiply and add those vectors it can gives us any possible linear combination.\n",
    "Here in the below the red dot's area would contain all the possilble linear combination of these vector.\n",
    "[![delete.png](https://i.postimg.cc/MKMzCMxP/delete.png)](https://postimg.cc/VdwyMNJn)"
   ]
  },
  {
   "cell_type": "markdown",
   "id": "71b36991",
   "metadata": {},
   "source": [
    "## Linearly dependent & Linearly Independent\n",
    "When one vector can be defined as a linear combination of the other vectors, they are a set of linearly dependent vectors.\n",
    "e.g. \n",
    "\n",
    "$\\vec v_1 = \\begin{bmatrix}1\\\\2\\\\3\\end{bmatrix}$\n",
    "$\\vec v_2 = \\begin{bmatrix}2\\\\2\\\\2\\end{bmatrix}$\n",
    "$\\vec v_3 = \\begin{bmatrix}8\\\\8\\\\8\\end{bmatrix}$\n",
    "\n",
    "For instance: if we multiply a 4 scalar with $v_2$ then we get $v_3$ so both of these are linearly dependent vectors.\n",
    "\n",
    "$$4\\vec v_2 \\Rightarrow \\vec v_3$$\n",
    "\n",
    "\n",
    "\n",
    "In our example:\n",
    "* ${v_1,v_2}\\text{ is linearly independent vectors.}$\n",
    "* ${v_1,v_3}\\text{ is linearly independent vectors.}$\n",
    "and\n",
    "* ${\\underline{v_2,v_3}}\\text{ is linearly dependent vectors.}$\n"
   ]
  },
  {
   "cell_type": "markdown",
   "id": "dc37e1e4",
   "metadata": {},
   "source": [
    "$\\begin{bmatrix} (-14)a\\\\2a\\end{bmatrix}+\\begin{bmatrix} 5b\\\\(-1)b\\end{bmatrix}=\\begin{bmatrix} -13\\\\3\\end{bmatrix}\\\\ $ $\\text{Above equation can be solve using substitution and elimination method but it can have infinite no solution.}$\n"
   ]
  },
  {
   "cell_type": "markdown",
   "id": "97d3afc1",
   "metadata": {},
   "source": [
    "An equation is said to be `Linear equation` if the variable can have exponent of 1 like below:\n",
    "$\\\\y = mx + b$\n",
    "\n",
    "An equation is said to be `Quadratic equation` if the variable can have exponent of 2 like below:\n",
    "$\\\\ax^2 + bx + c = 0$\n"
   ]
  },
  {
   "cell_type": "markdown",
   "id": "24d7045f",
   "metadata": {},
   "source": [
    "This set can be solved using three theoretical methods:\n",
    "\n",
    "* Graphical method\n",
    "* Substitution method\n",
    "* Elimination method\n",
    "\n",
    "we will go through the last 2 of them: \n",
    "\n",
    "To find the values of unknowns (a,b) in the above equation there can be an infinite no of solution to the above vectors.\n",
    "**Elimination method**\n",
    "\n",
    "${10𝑎 + 15𝑏 = -5\\\\2𝑎 + 3𝑏 = -1 * 5\\\\10𝑎 + 15𝑏 = -5\\\\10𝑎 + 15𝑏 = -25\\\\ \\text{Subtract the first equation from the second :}10𝑎 + 15𝑏 = -5\\\\10𝑎 + 15𝑏 - 10𝑎 - 15𝑏 = -5 - (-25)\\\\0𝑎 = 20\\\\0𝑎 = 20\\\\𝑎 = 0\\\\ }$\n",
    "\n",
    "**Substitution method**\n",
    "\n",
    "${\n",
    "\\text{Solve one of the equations for one of the variables, for example, solve for a in the first equation:}\\\\\n",
    "2𝑎 + 3𝑏 = -1\\\\\n",
    "2𝑎 = -1 - 3𝑏\\\\\n",
    "𝑎 = (-1 - 3𝑏) / 2\\\\\n",
    "\\text{Substitute the expression for a found in step 1 into the second equation:}\n",
    "10𝑎 + 15𝑏 = -5\\\\\n",
    "10((-1 - 3𝑏) / 2) + 15𝑏 = -5\\\\\n",
    "-5 - 15𝑏 + 15𝑏 = -5\\\\\n",
    "-5 = -5\\\\\n",
    "\\text{Solve for b:}\n",
    "𝑎 = (-1 - 3𝑏) / 2\\\\\n",
    "b = (1 + 2𝑎) / 3\\\\\n",
    "\\text{Substitute the value of b found in step 5 into the expression for a:}\n",
    "𝑎 = (-1 - 3𝑏) / 2\\\\\n",
    "𝑎 = (-1 - 3(-3 / 5)) / 2\\\\\n",
    "𝑎 = (1 + 9 / 5) / 2\\\\\n",
    "𝑎 = (10 / 5) / 2\\\\\n",
    "𝑎 = 2\\\\\n",
    "}$\n"
   ]
  },
  {
   "cell_type": "markdown",
   "id": "71d1a3ef",
   "metadata": {},
   "source": [
    "### The two equations above are linearly dependent.\n",
    "\n",
    "Try to sketch them graphically. What do you see? How may points of intersection are there?\n",
    "\n",
    "Since the two equations are linearly dependent, graphically they define the same line. Hence there are infinite number of solutions to the set of these equations. Basically, each point on the line (depicted by the blue x) satisfies the equation.\n",
    "<div style='display:flex'>\n",
    "<img src='https://i.postimg.cc/Hn2sB0sx/delete.png' style ='width:400px'>\n",
    "<img src='https://i.postimg.cc/Hn2sB0sx/delete.png' style ='width:400px'>\n",
    "</div>\n"
   ]
  },
  {
   "cell_type": "markdown",
   "id": "9d587a39",
   "metadata": {},
   "source": [
    "<h2 style='background-color:#ccffee; padding:24px;'>Linear Transformation and Matrices</h2>\n"
   ]
  },
  {
   "cell_type": "markdown",
   "id": "4ccf595c",
   "metadata": {},
   "source": [
    "> Our next step is to understand how to apply matrix arithmetic: to perform operations such as:\n",
    "\n",
    "        * Matrix Addition\n",
    "        * Scalar multiplication of a matrix\n",
    "        * Matrix multiplication\n",
    "\n",
    "**Matrix addition**\n",
    "There are only 2 rules of matrix addition:\n",
    "* Make sure dimensions (rows & columns) of both matrix is equal because matrix 1 would be broadcast over other matrix.\n",
    "* Make sure we add elements in the correct corresponding index.\n",
    "\n",
    "**Scalar multiplication of a matrix**\n",
    "\n",
    "To multiply a matrix by a scalar, we do **not** need to verify\n",
    "\n",
    "* Dimensions or\n",
    "* Indices\n",
    "\n",
    "Simply multiply each element in the matrix by the scalar!\n",
    "e.g.\n",
    "\n",
    "$\\alpha A=\\begin{bmatrix}\\alpha1&\\alpha2\\\\\\alpha3&\\alpha4\\end{bmatrix}$\n",
    "\n"
   ]
  },
  {
   "cell_type": "markdown",
   "id": "d6ba1812",
   "metadata": {},
   "source": [
    "## Quiz\n",
    "\n",
    "What is the the value of the $ij\\text {th}$ element of Matrix D if:\n",
    "\n",
    "${D=0.2A + (-5)B - 2C \\\\ a. i=1, j=1 \\\\ b. i = 2, j=4}$"
   ]
  },
  {
   "cell_type": "code",
   "execution_count": 15,
   "id": "805266cc",
   "metadata": {},
   "outputs": [
    {
     "data": {
      "text/plain": [
       "array([[  -14.4 , -1989.08,   -90.63,  -180.6 ],\n",
       "       [  -10.26,     0.8 ,   -14.5 ,   -43.14],\n",
       "       [   46.4 ,     0.  ,    -1.6 ,    -5.  ]])"
      ]
     },
     "execution_count": 15,
     "metadata": {},
     "output_type": "execute_result"
    }
   ],
   "source": [
    "import numpy as np\n",
    "import pandas as pd\n",
    "# Creating 3 matrices and then applying the above operation on it.\n",
    "\n",
    "A = np.array([[3, 0.6, 4, -3],[-1.3, 4, 0, 8.6],[7, 0, -8, 0.006]])\n",
    "B = np.array([[3, -5.76, 45, 0],[2, -2, 1.3, 9],[-9, 0, 0, 1]])\n",
    "C = np.array([[0, 1009, -66.7849, 90],[0, 5, 4, -0.07],[0, 0, 0, 0]])\n",
    "\n",
    "D = (0.2*A) + (-5*B) - 2*C\n",
    "D"
   ]
  },
  {
   "cell_type": "markdown",
   "id": "22322ecb",
   "metadata": {},
   "source": [
    "<h2 style='background-color:#ccffee; padding:24px;'>Multiplication of Square Matrices</h2>\n",
    "\n",
    "To multiply matrices we have to verify:\n",
    "* That both of matrices have the same dimension e.g. a= 3x3 b = 3x3\n",
    "\n",
    "let A and B be two square matrcies of 3 x 3.\n",
    "$A = \\begin{bmatrix}3&1&2 \\\\ -5&4&1 \\\\ 0&3&-8 \\end{bmatrix}$\n",
    "$B = \\begin{bmatrix}0&5&-1 \\\\ 3&2&-1 \\\\ 10&0.5&4 \\end{bmatrix}$\n",
    "\n",
    "$\\text{(a) What is the value of element of} c_{23} \\text{ of Matrix C where} C = A x B$\n",
    "\n",
    "$\\text{(b) What is the value of element of} c_{23} \\text{ of Matrix C where} C = B x A$\n",
    "\n",
    "Since AxB $\\ne$ BxA. We can say that they are not commutative.\n",
    "\n",
    "Multiplication of Scalars are defintely commutative Since they have single dimension.\n",
    "\n",
    "<h4>If Column of matrix A is equal to Rows of matrix B then multiplication is possible.<br>\n",
    "In other words, if P is a matrix with dimensions t x m and Q is a matrix with dimensions m x v then multiplication is possible:\n",
    "</h4>\n",
    "\n",
    "A matrix with only one row or one column is a vector."
   ]
  },
  {
   "cell_type": "code",
   "execution_count": 22,
   "id": "81e028c9",
   "metadata": {},
   "outputs": [
    {
     "name": "stdout",
     "output_type": "stream",
     "text": [
      "[[ 23.   18.    4. ]\n",
      " [ 22.  -16.5   5. ]\n",
      " [-71.    2.  -35. ]]\n",
      "[[-25.   17.   13. ]\n",
      " [ -1.    8.   16. ]\n",
      " [ 27.5  24.  -11.5]]\n"
     ]
    }
   ],
   "source": [
    "A = np.array([[3,1,2],[-5,4,1],[0,3,-8]])\n",
    "B = np.array([[0,5,-1],[3,2,-1],[10,0.5,4]])\n",
    "\n",
    "# In numpy @ sign is use for matrix multiplication.\n",
    "print(A@B)\n",
    "print(np.matmul(B,A))"
   ]
  },
  {
   "cell_type": "code",
   "execution_count": 23,
   "id": "8586327c",
   "metadata": {},
   "outputs": [],
   "source": [
    "A = np.array([0.6,-15,2,5,98])\n",
    "B = np.array([[2,2,-4],[9,-14,0],[13,-0.5,44],[1,9,4],[0,0,5]])"
   ]
  },
  {
   "cell_type": "markdown",
   "id": "48d4c620",
   "metadata": {},
   "source": [
    "##### If C=AxB,\n",
    "\n",
    "(a) How many rows will C have?\n",
    "\n",
    "(b) How many columns will C have?\n",
    "\n",
    "(c) What will be the value of $c_{13}?$\n",
    "\n",
    "If C=BxA\n",
    "\n",
    "(d) What will be the value of $c_{13}?$\n",
    "\n"
   ]
  },
  {
   "cell_type": "code",
   "execution_count": 39,
   "id": "01be4917",
   "metadata": {},
   "outputs": [
    {
     "data": {
      "text/plain": [
       "array([-102.8,  255.2,  595.6])"
      ]
     },
     "execution_count": 39,
     "metadata": {},
     "output_type": "execute_result"
    }
   ],
   "source": [
    "A@B"
   ]
  },
  {
   "cell_type": "markdown",
   "id": "860bfa61",
   "metadata": {},
   "source": [
    "Here Green and Red column represent the base vectors in the x-axis and y-axis in the 2D space.\n",
    "![](https://i.postimg.cc/W1mm6CNc/delete.png)"
   ]
  },
  {
   "cell_type": "markdown",
   "id": "cdb6bea4",
   "metadata": {},
   "source": [
    "The **derivative** is a concept in mathematics that measures how much a quantity changes with respect to another quantity. In simple terms, it tells you how quickly a value is changing at a particular point.\n",
    "\n",
    "For example, if you're driving a car, the speedometer tells you how fast you're going at a given moment. The derivative of speed with respect to time would tell you how quickly your speed is changing - in other words, how quickly you're accelerating or slowing down."
   ]
  }
 ],
 "metadata": {
  "kernelspec": {
   "display_name": "Python 3 (ipykernel)",
   "language": "python",
   "name": "python3"
  },
  "language_info": {
   "codemirror_mode": {
    "name": "ipython",
    "version": 3
   },
   "file_extension": ".py",
   "mimetype": "text/x-python",
   "name": "python",
   "nbconvert_exporter": "python",
   "pygments_lexer": "ipython3",
   "version": "3.10.8"
  }
 },
 "nbformat": 4,
 "nbformat_minor": 5
}
