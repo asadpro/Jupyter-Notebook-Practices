{
 "cells": [
  {
   "cell_type": "markdown",
   "id": "bdde70de",
   "metadata": {},
   "source": [
    "## What is a Neural Network?\n",
    "The following is a fun short movie that will give you a nice visualization of these biological neural networks.\n",
    "\n",
    "<img src='https://video.udacity-data.com/topher/2018/January/5a724492_screen-shot-2018-01-31-at-2.22.49-pm/screen-shot-2018-01-31-at-2.22.49-pm.png' width=400px>\n",
    "\n",
    "- In practice, these lines symbolize a coefficient (a scalar) that is mathematically connecting one neuron to the next. These coefficients are called weights. A coefficient is a number that tells us how many times a certain quantity is being used e.g. So, when you see an equation like \"2x + 3 = 7\", the coefficient 2 is telling us how many times the \"x\" block is being used.\n",
    "***\n",
    "- The \"lines\" connect each neuron in a specific layer to all of the neurons on the following. For example, in our example, you can see how each neuron in the hidden layer is connected to a neuron in the output one.\n",
    "*** \n",
    "* Since there are so many weights connecting one layer to the next, we mathematically organize those coefficients in a matrix, denoted as the weight matrix."
   ]
  },
  {
   "cell_type": "markdown",
   "id": "00755c85",
   "metadata": {},
   "source": [
    "**When working with Neural Network we have 2 Primary Phases:**\n",
    "\n",
    "1. Training\n",
    "2. Evaluation\n",
    "\n",
    "\n",
    "In $\\color{green}{\\text {Training Phase}}$ we have further 2 Phases:\n",
    "* FeedForward\n",
    "* Backpropagation\n",
    "\n",
    "In $\\color{green}{\\text {Evaluation Phase}}$ we gives input to the Neural Network that was created in the Training Phase and apply our new inputs and expects the desired outputs.\n",
    "\n"
   ]
  },
  {
   "cell_type": "markdown",
   "id": "f5954f39",
   "metadata": {},
   "source": [
    "The Feedforward Process- Finding $\\vec h$\n",
    "\n",
    "![](https://video.udacity-data.com/topher/2018/February/5a725c10_screen-shot-2018-01-31-at-4.14.50-pm/screen-shot-2018-01-31-at-4.14.50-pm.png)\n",
    "\n",
    "<img src='https://video.udacity-data.com/topher/2018/February/5a725e7c_screen-shot-2018-01-31-at-4.25.16-pm/screen-shot-2018-01-31-at-4.25.16-pm.png' width=350px>"
   ]
  },
  {
   "cell_type": "markdown",
   "id": "c8e602c4",
   "metadata": {},
   "source": [
    "Notice above that both input and hidden layers displayed as a vector as they both represented by more than single neuron.\n",
    "\n",
    "vector $\\vec h^\\prime$ of the hidden layer will be calculated by multiplying the input vector with the weight matrix $W^1$ the following way:\n",
    "\n",
    "+ $\\vec h^\\prime = (\\bar{x}W^1)$\n",
    "\n",
    "The activation function finalizes the computation of the hidden layer's values.\n",
    "+ $\\vec h = \\Phi (\\bar{x}W^1)$\n",
    "or\n",
    "+ $\\vec h = \\Phi (\\vec{h^1})$\n",
    "\n"
   ]
  },
  {
   "cell_type": "markdown",
   "id": "554b8f72",
   "metadata": {},
   "source": [
    "Since $W_{ij}$ represents the weight component in the weight matrix, connecting neuron i from the input to neuron j in the hidden layer, we can also write these calculations using a linear combination: (notice that in this example we have n inputs and only 3 hidden neurons)\n",
    "\n",
    "<img src='https://video.udacity-data.com/topher/2018/February/5a725f86_screen-shot-2018-01-31-at-4.29.38-pm/screen-shot-2018-01-31-at-4.29.38-pm.png' width=350px>"
   ]
  },
  {
   "cell_type": "markdown",
   "id": "bb669d77",
   "metadata": {},
   "source": [
    "<img src='https://i.postimg.cc/Dys5Qt0k/delete.png' width=350px >\n",
    "Image above portray the inner multiplication of weights and inputs to get the ouput."
   ]
  }
 ],
 "metadata": {
  "kernelspec": {
   "display_name": "Python 3 (ipykernel)",
   "language": "python",
   "name": "python3"
  },
  "language_info": {
   "codemirror_mode": {
    "name": "ipython",
    "version": 3
   },
   "file_extension": ".py",
   "mimetype": "text/x-python",
   "name": "python",
   "nbconvert_exporter": "python",
   "pygments_lexer": "ipython3",
   "version": "3.10.8"
  }
 },
 "nbformat": 4,
 "nbformat_minor": 5
}
