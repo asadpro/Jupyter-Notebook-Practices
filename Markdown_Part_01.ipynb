{
 "cells": [
  {
   "cell_type": "code",
   "execution_count": 1,
   "id": "92e02a27",
   "metadata": {
    "slideshow": {
     "slide_type": "fragment"
    }
   },
   "outputs": [],
   "source": [
    "import numpy\n",
    "safe = [1,2,3,4,5]"
   ]
  },
  {
   "cell_type": "code",
   "execution_count": 2,
   "id": "4da3b7e2",
   "metadata": {
    "slideshow": {
     "slide_type": "fragment"
    }
   },
   "outputs": [],
   "source": [
    "import matplotlib as plt"
   ]
  },
  {
   "cell_type": "code",
   "execution_count": 3,
   "id": "b7e01ad6",
   "metadata": {
    "slideshow": {
     "slide_type": "fragment"
    }
   },
   "outputs": [],
   "source": [
    "# import requests \n",
    "# import json\n",
    "# dataobject = requests.get('https://video.udacity-data.com/topher/2016/December/58474202_working-with-code-cells/working-with-code-cells.ipynb').text\n",
    "# python_dict = json.loads(dataobject)\n",
    "# python_dict['cells']"
   ]
  },
  {
   "cell_type": "markdown",
   "id": "b82e872f",
   "metadata": {
    "slideshow": {
     "slide_type": "fragment"
    }
   },
   "source": [
    "#### Adding heading by a single space after hash\n",
    "[Udacity's home page]('https://www.udacity.com')"
   ]
  },
  {
   "cell_type": "markdown",
   "id": "fe87c9b2",
   "metadata": {
    "slideshow": {
     "slide_type": "fragment"
    }
   },
   "source": [
    "*use single asterik for italic text*<br>\n",
    "**use double asterik for bold text**<br>\n",
    "__we can also use single or double underscore to make the text italic or bold__\n",
    "##### *__we can use both asterik and underscore to make the text italic and bold__*"
   ]
  },
  {
   "cell_type": "markdown",
   "id": "30a70b48",
   "metadata": {
    "slideshow": {
     "slide_type": "fragment"
    }
   },
   "source": [
    "#### To create a code snippet we need ( \\` ) backticks above the tab key or adding 4 spaces on the left\n",
    "`\n",
    "import requests\n",
    "response = requests.get('https://www.udacity.com')\n",
    "`\n",
    "or we can use 4 spaces e.g.\n",
    "\n",
    "    for i in range(i):\n",
    "        if i%2==0:\n",
    "            print('this is even')\n",
    "        else:\n",
    "            print('this is odd')\n",
    "        print(i)\n",
    "   \n"
   ]
  },
  {
   "cell_type": "markdown",
   "id": "2e11ae3d",
   "metadata": {
    "slideshow": {
     "slide_type": "fragment"
    }
   },
   "source": [
    "* Section\n",
    "    * subsection\n",
    "    * subsection\n",
    "\n",
    "for breaking line we can use \\<br> html tag \n",
    "#### To format the below text as it shown we need to use backslash ( \\ ) at the end of every sentence\n",
    "I have eaten\\\n",
    "the plums\\\n",
    "that were in\\\n",
    "the icebox\n",
    "<hr>\n",
    "### Blockquotes\n",
    "To create a blockquote, start a line with greater than > followed by an optional space.\n",
    "Blockquotes can be nested, and can also contain other formatting.       "
   ]
  },
  {
   "cell_type": "markdown",
   "id": "7fc2421e",
   "metadata": {
    "slideshow": {
     "slide_type": "fragment"
    }
   },
   "source": [
    "The quote \n",
    ">Somewhere, something incredible is waiting to be known \n",
    "\n",
    "has been ascribed to Carl Sagan.\n",
    "                            "
   ]
  },
  {
   "cell_type": "markdown",
   "id": "8b9adcad",
   "metadata": {
    "slideshow": {
     "slide_type": "fragment"
    }
   },
   "source": [
    "<h3 style=\"color: green;\">Lists in markdown</h3>\n",
    "\n",
    "Unordered lists can use either asterisks *, plus +, or hyphens - as list markers.\n",
    "e.g.\n",
    "+ Apple\n",
    "- banana\n",
    "* mango\n",
    "Ordered lists use numbers followed by period . or right paren ).\n",
    "e.g. \n",
    "1) First\n",
    "2) Second\n",
    "3) Third\n",
    "\n",
    "<h3 style=\"color: green;\">Nested Lists</h3>\n",
    "\n",
    "To nest one list within another, indent each item in the sublist by four spaces. You can also nest other elements like paragraphs, blockquotes or code blocks\n",
    "e.g.\n",
    "* Grandfather\n",
    "\n",
    "    1. father\n",
    "    >This sentence is blockquoted\n",
    "\n",
    "    `print('code block')`\n",
    "    #### Paragraph text\n"
   ]
  },
  {
   "cell_type": "markdown",
   "id": "7527cdc3",
   "metadata": {
    "slideshow": {
     "slide_type": "fragment"
    }
   },
   "source": [
    "<!-- <h3 style='color:purple;'>Link insertion</h3><br> -->\n",
    "### Link insertion\n",
    "Link text is enclosed by square brackets [], and for inline links, the link URL is enclosed by parens ()\n",
    "This is a sentence inside a paragraph. You can learn more about Markdown \n",
    "* Below i have uses the reference format\n",
    "[here][1]\n",
    "\n",
    "[1]: https://www.markdownguide.org/\n",
    "\n",
    "* If you want show the user the direct link then we can enclosed then link like this:\n",
    "<https://html5zombo.com>\n"
   ]
  },
  {
   "cell_type": "markdown",
   "id": "6018aed7",
   "metadata": {
    "slideshow": {
     "slide_type": "fragment"
    }
   },
   "source": [
    "## Image insertion\n",
    "Images are almost identical to links, but an image starts with an exclamation point.\n",
    "\n",
    "\n",
    "![We put this section if in case photo is unavailable](https://i.postimg.cc/rpJp4kVd/markdown-essential-tags.png)\n"
   ]
  },
  {
   "cell_type": "code",
   "execution_count": 4,
   "id": "457e5b1e",
   "metadata": {
    "slideshow": {
     "slide_type": "fragment"
    }
   },
   "outputs": [
    {
     "name": "stdout",
     "output_type": "stream",
     "text": [
      "9.55 µs ± 128 ns per loop (mean ± std. dev. of 7 runs, 100,000 loops each)\n"
     ]
    }
   ],
   "source": [
    "def square(num):\n",
    "    for i in range(num):\n",
    "        if i%2==0:\n",
    "            i**2\n",
    "# If we want to use magic method for a single line then use single '%' with magic function \n",
    "# Likewise for a cell to find it's execution time then put '%%' double percentage sign with magic method\n",
    "%timeit square(45)"
   ]
  },
  {
   "cell_type": "code",
   "execution_count": 5,
   "id": "a600d7cb",
   "metadata": {
    "slideshow": {
     "slide_type": "fragment"
    }
   },
   "outputs": [
    {
     "name": "stdout",
     "output_type": "stream",
     "text": [
      "419 ns ± 9.23 ns per loop (mean ± std. dev. of 7 runs, 1,000,000 loops each)\n"
     ]
    }
   ],
   "source": [
    "%%timeit\n",
    "def sum_sequence(sequence):\n",
    "    return sum(sequence)\n",
    "numbers = [1,2,3,4,5,6,7]\n",
    "sum_sequence(numbers)"
   ]
  },
  {
   "cell_type": "code",
   "execution_count": 9,
   "id": "6afdc7f1",
   "metadata": {
    "slideshow": {
     "slide_type": "fragment"
    }
   },
   "outputs": [
    {
     "ename": "TypeError",
     "evalue": "unsupported operand type(s) for +: 'int' and 'str'",
     "output_type": "error",
     "traceback": [
      "\u001b[1;31m---------------------------------------------------------------------------\u001b[0m",
      "\u001b[1;31mTypeError\u001b[0m                                 Traceback (most recent call last)",
      "Cell \u001b[1;32mIn[9], line 6\u001b[0m\n\u001b[0;32m      3\u001b[0m \u001b[38;5;66;03m# %pdb\u001b[39;00m\n\u001b[0;32m      5\u001b[0m numbers \u001b[38;5;241m=\u001b[39m \u001b[38;5;124m'\u001b[39m\u001b[38;5;124mhello\u001b[39m\u001b[38;5;124m'\u001b[39m\n\u001b[1;32m----> 6\u001b[0m \u001b[38;5;28;43msum\u001b[39;49m\u001b[43m(\u001b[49m\u001b[43mnumbers\u001b[49m\u001b[43m)\u001b[49m\n\u001b[0;32m      7\u001b[0m get_ipython()\u001b[38;5;241m.\u001b[39mrun_line_magic(\u001b[38;5;124m'\u001b[39m\u001b[38;5;124mdebug\u001b[39m\u001b[38;5;124m'\u001b[39m, \u001b[38;5;124m'\u001b[39m\u001b[38;5;124m'\u001b[39m)\n",
      "\u001b[1;31mTypeError\u001b[0m: unsupported operand type(s) for +: 'int' and 'str'"
     ]
    }
   ],
   "source": [
    "# As this will gives us type error so then we can check it in real time whether numbers variable is in or str\n",
    "'''A python debuger below pdb '''\n",
    "# %pdb\n",
    "%debug\n",
    "numbers = 'hello'\n",
    "sum(numbers)\n"
   ]
  },
  {
   "cell_type": "code",
   "execution_count": null,
   "id": "71dd019b",
   "metadata": {
    "slideshow": {
     "slide_type": "fragment"
    }
   },
   "outputs": [],
   "source": [
    "%timeit sum(range(10000))"
   ]
  },
  {
   "cell_type": "code",
   "execution_count": 16,
   "id": "a07411d4",
   "metadata": {
    "slideshow": {
     "slide_type": "fragment"
    }
   },
   "outputs": [
    {
     "data": {
      "text/plain": [
       "['numbers', 'numpy', 'plt', 'safe', 'square']"
      ]
     },
     "execution_count": 16,
     "metadata": {},
     "output_type": "execute_result"
    }
   ],
   "source": [
    "# whos, who_ls, who will list all the variable in the namespace that we have defined\n",
    "%who_ls\n",
    "\n",
    "# Reset magic function will remove all the variable from namespace \n",
    "%reset"
   ]
  },
  {
   "cell_type": "code",
   "execution_count": 26,
   "id": "4a956b63",
   "metadata": {
    "slideshow": {
     "slide_type": "fragment"
    }
   },
   "outputs": [],
   "source": [
    "# Below magic command is used to list out all the history\n",
    "# %history"
   ]
  },
  {
   "cell_type": "code",
   "execution_count": 24,
   "id": "03070cce",
   "metadata": {
    "slideshow": {
     "slide_type": "fragment"
    }
   },
   "outputs": [],
   "source": [
    "# magic command can be used to show all the magic commands and their usage\n",
    "# %magic"
   ]
  },
  {
   "cell_type": "code",
   "execution_count": 31,
   "id": "a866ff2f",
   "metadata": {
    "slideshow": {
     "slide_type": "fragment"
    }
   },
   "outputs": [],
   "source": [
    "# this will run the below script and return of all in one single output we can also pass argument to the filename if takes so\n",
    "# %run numpy_panda_matplotlib.ipynb\n"
   ]
  },
  {
   "cell_type": "code",
   "execution_count": null,
   "id": "091045fe",
   "metadata": {},
   "outputs": [],
   "source": [
    "# !jupyter nbconvert numpy_panda_matplotlib.ipynb --to slides\n",
    "# !jupyter nbconvert numpy_panda_matplotlib.ipynb --to slides"
   ]
  },
  {
   "cell_type": "markdown",
   "id": "48973d20",
   "metadata": {},
   "source": [
    "### Inserting video in markdown using html5 video tag\n",
    "<video controls src=\"../images/animation.m4v\">animation</video>"
   ]
  },
  {
   "cell_type": "code",
   "execution_count": null,
   "id": "926b4c4e",
   "metadata": {},
   "outputs": [],
   "source": []
  }
 ],
 "metadata": {
  "kernelspec": {
   "display_name": "Python 3 (ipykernel)",
   "language": "python",
   "name": "python3"
  },
  "language_info": {
   "codemirror_mode": {
    "name": "ipython",
    "version": 3
   },
   "file_extension": ".py",
   "mimetype": "text/x-python",
   "name": "python",
   "nbconvert_exporter": "python",
   "pygments_lexer": "ipython3",
   "version": "3.10.8"
  }
 },
 "nbformat": 4,
 "nbformat_minor": 5
}
