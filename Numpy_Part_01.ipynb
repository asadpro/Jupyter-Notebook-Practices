{
 "cells": [
  {
   "cell_type": "code",
   "execution_count": 116,
   "id": "21bbba9b",
   "metadata": {},
   "outputs": [
    {
     "name": "stdout",
     "output_type": "stream",
     "text": [
      "11.000394821166992\n",
      "0.96893310546875\n"
     ]
    }
   ],
   "source": [
    "import numpy as np\n",
    "import time\n",
    "import sys\n",
    "x = np.random.random(100000)\n",
    "\n",
    "# Case 1 to check the execution time of program using simple python script\n",
    "start = time.time()\n",
    "\n",
    "# Find the average of x using traditional way of python\n",
    "sum(x)/len(x)\n",
    "\n",
    "print((time.time()-start)*1000) # I multiply it with 1000 because i wanted the time to be miliseconds\n",
    "\n",
    "# Case 2 to check the execution time of program using numpy\n",
    "start = time.time()\n",
    "np.mean(x)\n",
    "print((time.time()-start)*1000)\n",
    "\n",
    "\n",
    "# As we can see below numpy took only 1 miliseconds on contrast python takes 11 miliseconds"
   ]
  },
  {
   "cell_type": "code",
   "execution_count": 117,
   "id": "4043acfc",
   "metadata": {},
   "outputs": [
    {
     "data": {
      "text/plain": [
       "array([[1, 2, 3],\n",
       "       [4, 5, 6]])"
      ]
     },
     "execution_count": 117,
     "metadata": {},
     "output_type": "execute_result"
    }
   ],
   "source": [
    "my2d_array = np.array([\n",
    "    [1,2,3],\n",
    "    [4,5,6],\n",
    "    [7,8,9]\n",
    "])\n",
    "\n",
    "# slicing in numpy array\n",
    "# Below slicing will show us only 2-rows and 3-columns\n",
    "my2d_array[:2,:3]\n"
   ]
  },
  {
   "cell_type": "code",
   "execution_count": 118,
   "id": "a2f3ef1a",
   "metadata": {},
   "outputs": [
    {
     "data": {
      "text/plain": [
       "array([[ 0,  1,  2,  3],\n",
       "       [ 4,  5,  6,  7],\n",
       "       [ 8,  9, 10, 11]])"
      ]
     },
     "execution_count": 118,
     "metadata": {},
     "output_type": "execute_result"
    }
   ],
   "source": [
    "num_array = np.arange(12).reshape(3,4)\n",
    "num_array"
   ]
  },
  {
   "cell_type": "code",
   "execution_count": 119,
   "id": "91ee896b",
   "metadata": {},
   "outputs": [
    {
     "data": {
      "text/plain": [
       "(array([[4, 5],\n",
       "        [8, 9]]),\n",
       " array([[ 0,  2],\n",
       "        [ 8, 10]]))"
      ]
     },
     "execution_count": 119,
     "metadata": {},
     "output_type": "execute_result"
    }
   ],
   "source": [
    "num_array[1:3,0:2],num_array[::2,::2]"
   ]
  },
  {
   "cell_type": "code",
   "execution_count": 120,
   "id": "01015b12",
   "metadata": {},
   "outputs": [
    {
     "data": {
      "text/plain": [
       "(2174339874704, 2174339867888, 2174339874704)"
      ]
     },
     "execution_count": 120,
     "metadata": {},
     "output_type": "execute_result"
    }
   ],
   "source": [
    "id(num_array[1:3,0:2]),id(num_array), id(num_array[:1])"
   ]
  },
  {
   "cell_type": "code",
   "execution_count": 121,
   "id": "5e8884c0",
   "metadata": {},
   "outputs": [
    {
     "data": {
      "text/plain": [
       "(16, 4)"
      ]
     },
     "execution_count": 121,
     "metadata": {},
     "output_type": "execute_result"
    }
   ],
   "source": [
    "# Strides are the number of bytes requires to get to the next element in array\n",
    "# In the case of 2d array as follows gives the resultant tuple (12,4) means 12 bytes requires to reach to the next row whereas\n",
    "# 4 means that it requires only 4 bytes to reach to the next column\n",
    "num_array.strides\n",
    "\n"
   ]
  },
  {
   "cell_type": "code",
   "execution_count": 122,
   "id": "e7b1cd9e",
   "metadata": {},
   "outputs": [
    {
     "data": {
      "text/plain": [
       "(128, dtype('int32'), (16, 4))"
      ]
     },
     "execution_count": 122,
     "metadata": {},
     "output_type": "execute_result"
    }
   ],
   "source": [
    "# Above 4 bytes requires because of the datatype of the element which is int32 (means integer will take 32 bit of memory)\n",
    "# If we convert bits to bytes then ==> 32/8 = 4 bytes\n",
    "# If we want to store larger integers then we can use int64 although most of work can be done int32\n",
    "# Int32 is more memory efficient so it's good to use it unless we have a good reason to use int64\n",
    "sys.getsizeof(num_array), num_array.dtype,num_array.strides\n"
   ]
  },
  {
   "cell_type": "code",
   "execution_count": 123,
   "id": "47e400d5",
   "metadata": {},
   "outputs": [
    {
     "data": {
      "text/plain": [
       "(128, dtype('int64'), (32, 8))"
      ]
     },
     "execution_count": 123,
     "metadata": {},
     "output_type": "execute_result"
    }
   ],
   "source": [
    "# Creating int64 bit of array \n",
    "\n",
    "big_array = np.arange(12,dtype='int64').reshape(3,4)\n",
    "\n",
    "sys.getsizeof(big_array),big_array.dtype,big_array.strides\n"
   ]
  },
  {
   "cell_type": "code",
   "execution_count": 124,
   "id": "a24c09d5",
   "metadata": {},
   "outputs": [
    {
     "data": {
      "text/plain": [
       "(64, 32)"
      ]
     },
     "execution_count": 124,
     "metadata": {},
     "output_type": "execute_result"
    }
   ],
   "source": [
    "# np.iinfo(num_array.dtype).bits\n",
    "np.iinfo(big_array.dtype).bits,np.iinfo(num_array.dtype).bits"
   ]
  },
  {
   "cell_type": "code",
   "execution_count": 125,
   "id": "8a23e8e5",
   "metadata": {},
   "outputs": [
    {
     "data": {
      "text/plain": [
       "2"
      ]
     },
     "execution_count": 125,
     "metadata": {},
     "output_type": "execute_result"
    }
   ],
   "source": [
    "# Number of dimension this array have\n",
    "big_array.ndim"
   ]
  },
  {
   "cell_type": "code",
   "execution_count": 126,
   "id": "e3b9fbb4",
   "metadata": {},
   "outputs": [
    {
     "data": {
      "text/plain": [
       "12"
      ]
     },
     "execution_count": 126,
     "metadata": {},
     "output_type": "execute_result"
    }
   ],
   "source": [
    "# Check the size of array\n",
    "# Below the size means how many elements contains in big_array\n",
    "big_array.size  "
   ]
  },
  {
   "cell_type": "code",
   "execution_count": 127,
   "id": "89c86921",
   "metadata": {},
   "outputs": [
    {
     "data": {
      "text/plain": [
       "(1.6947507858276367e-05, 0.0)"
      ]
     },
     "execution_count": 127,
     "metadata": {},
     "output_type": "execute_result"
    }
   ],
   "source": [
    "# Comparing creation of array using python array module and numpy \n",
    "import time\n",
    "x_time = time.time()\n",
    "x = np.array([i for i in range(100000)])\n",
    "x_time = time.time()-x_time\n",
    "\n",
    "# Now create array using numpy and find it's execution time\n",
    "y_time = time.time()\n",
    "y = np.arange(100000)\n",
    "y_time = time.time() - y_time\n",
    "\n",
    "x_time/1000 , y_time/1000"
   ]
  },
  {
   "cell_type": "code",
   "execution_count": 128,
   "id": "41732b2d",
   "metadata": {},
   "outputs": [],
   "source": [
    "# We can also store numpy array to a file (np.save) and then can upload letter on (np.load)\n",
    "# np.save('textnumpy',big_array)\n",
    "# loaded = np.load('textnumpy.npy')\n",
    "# loaded"
   ]
  },
  {
   "cell_type": "code",
   "execution_count": 129,
   "id": "9b6a0156",
   "metadata": {},
   "outputs": [
    {
     "name": "stdout",
     "output_type": "stream",
     "text": [
      "[[0. 0. 0.]\n",
      " [0. 0. 0.]\n",
      " [0. 0. 0.]]\n",
      "\n",
      "[[1. 1. 1.]\n",
      " [1. 1. 1.]\n",
      " [1. 1. 1.]]\n",
      "\n",
      "[[2 2 2]\n",
      " [2 2 2]\n",
      " [2 2 2]]\n",
      "\n",
      "[[33  0  0  0]\n",
      " [ 0 44  0  0]\n",
      " [ 0  0 55  0]\n",
      " [ 0  0  0 66]]\n",
      "\n",
      "int32\n"
     ]
    }
   ],
   "source": [
    "# Creating zero matrix\n",
    "zero = np.zeros((3,3))\n",
    "ones = np.ones((3,3))\n",
    "constant = np.full((3,3),2) # create an array with shape (3x3) and replace all the elements with 2\n",
    "\n",
    "diagnal = np.diag([33,44,55,66]) # create a matrix and fill the diagonal with the given list\n",
    "\n",
    "identity = np.eye(3,3,dtype=int) # Create identity matrix with shape (3x3)\n",
    "\n",
    "print(zero , end='\\n\\n',)\n",
    "print(ones, end='\\n\\n')\n",
    "print(constant, end='\\n\\n')\n",
    "print(diagnal, end='\\n\\n')\n",
    "print(identity.dtype)\n"
   ]
  },
  {
   "cell_type": "code",
   "execution_count": 130,
   "id": "82ee21b7",
   "metadata": {},
   "outputs": [
    {
     "data": {
      "text/plain": [
       "array([[ 0,  1,  2],\n",
       "       [ 3,  4,  5],\n",
       "       [ 6,  7,  8],\n",
       "       [ 9, 10, 11]])"
      ]
     },
     "execution_count": 130,
     "metadata": {},
     "output_type": "execute_result"
    }
   ],
   "source": [
    "arr = np.arange(12)\n",
    "new_arr = np.reshape(arr,(3,4))\n",
    "new_arr.reshape((4,3))\n",
    "\n"
   ]
  },
  {
   "cell_type": "code",
   "execution_count": 131,
   "id": "96d0cabf",
   "metadata": {},
   "outputs": [
    {
     "data": {
      "text/plain": [
       "array([[ 2,  4],\n",
       "       [ 6,  8],\n",
       "       [10, 12],\n",
       "       [14, 16],\n",
       "       [18, 20]])"
      ]
     },
     "execution_count": 131,
     "metadata": {},
     "output_type": "execute_result"
    }
   ],
   "source": [
    "# Create array with only even number upto 20\n",
    "even = np.arange(2,21,2,dtype=int).reshape(5,2)\n",
    "even"
   ]
  },
  {
   "cell_type": "code",
   "execution_count": 132,
   "id": "8dfa36ae",
   "metadata": {},
   "outputs": [
    {
     "data": {
      "text/plain": [
       "array([0.        , 0.00204082, 0.00408163, 0.00612245, 0.00816327,\n",
       "       0.01020408, 0.0122449 , 0.01428571, 0.01632653, 0.01836735,\n",
       "       0.02040816, 0.02244898, 0.0244898 , 0.02653061, 0.02857143,\n",
       "       0.03061224, 0.03265306, 0.03469388, 0.03673469, 0.03877551,\n",
       "       0.04081633, 0.04285714, 0.04489796, 0.04693878, 0.04897959,\n",
       "       0.05102041, 0.05306122, 0.05510204, 0.05714286, 0.05918367,\n",
       "       0.06122449, 0.06326531, 0.06530612, 0.06734694, 0.06938776,\n",
       "       0.07142857, 0.07346939, 0.0755102 , 0.07755102, 0.07959184,\n",
       "       0.08163265, 0.08367347, 0.08571429, 0.0877551 , 0.08979592,\n",
       "       0.09183673, 0.09387755, 0.09591837, 0.09795918, 0.1       ])"
      ]
     },
     "execution_count": 132,
     "metadata": {},
     "output_type": "execute_result"
    }
   ],
   "source": [
    "# linspace function will create an array of millions of samples from 0-1 or it can be anything \n",
    "# below linspace will pick 50 sample between 0-0.1\n",
    "linespace = np.linspace(0,0.1,50)\n",
    "linespace"
   ]
  },
  {
   "cell_type": "code",
   "execution_count": 133,
   "id": "61b481b3",
   "metadata": {},
   "outputs": [
    {
     "data": {
      "text/plain": [
       "array([0.66719137, 0.2628631 , 0.35366865, 0.14410339, 0.40524794,\n",
       "       0.75771918, 0.97757064, 0.13436503, 0.34389272, 0.93904763,\n",
       "       0.482228  , 0.52470473, 0.79287544, 0.45194136, 0.61295335,\n",
       "       0.06123284, 0.98023283, 0.77974661, 0.59279062, 0.22237628,\n",
       "       0.03363522, 0.50385196, 0.46000313, 0.92359811, 0.994709  ,\n",
       "       0.37739905, 0.45051987, 0.0963721 , 0.12611053, 0.74338447,\n",
       "       0.48980994, 0.29925868, 0.41124002, 0.20643594, 0.4641492 ,\n",
       "       0.60322081, 0.89002683, 0.76897724, 0.4597682 , 0.84697272,\n",
       "       0.03267904, 0.89413204, 0.36404518, 0.76863559, 0.99121543,\n",
       "       0.55005872, 0.1574923 , 0.15673166, 0.59180049, 0.55946877])"
      ]
     },
     "execution_count": 133,
     "metadata": {},
     "output_type": "execute_result"
    }
   ],
   "source": [
    "np.random.random(50) # Create 50 random sample between 0 (inclusive) 1 (exclusive)"
   ]
  },
  {
   "cell_type": "code",
   "execution_count": 134,
   "id": "41e11358",
   "metadata": {},
   "outputs": [
    {
     "data": {
      "text/plain": [
       "array([5, 9, 8, 9, 6, 6, 8, 6, 2, 7, 9, 6, 2, 8, 5, 3, 7, 8, 8, 7, 4, 4,\n",
       "       2, 8, 4, 9, 2, 5, 4, 7, 7, 8, 5, 4, 3, 5, 3, 8, 8, 5, 7, 3, 6, 5,\n",
       "       5, 7, 3, 9, 7, 6])"
      ]
     },
     "execution_count": 134,
     "metadata": {},
     "output_type": "execute_result"
    }
   ],
   "source": [
    "np.random.randint(2,10,50) # Create 50 random sample between 2-10 (10 exclusive)"
   ]
  },
  {
   "cell_type": "code",
   "execution_count": 135,
   "id": "72df76ee",
   "metadata": {},
   "outputs": [
    {
     "data": {
      "text/plain": [
       "2"
      ]
     },
     "execution_count": 135,
     "metadata": {},
     "output_type": "execute_result"
    }
   ],
   "source": [
    "ndist = np.random.normal(0,0.1,(1000,1000)) # Create 50 random sample from normal (guasian)distribution\n",
    "ndist.ndim"
   ]
  },
  {
   "cell_type": "code",
   "execution_count": 136,
   "id": "7a2d0f52",
   "metadata": {},
   "outputs": [
    {
     "name": "stdout",
     "output_type": "stream",
     "text": [
      "The elements in X have a mean of: 0.00015258605142367\n",
      "The maximum value in X is: 0.4705536253474361\n",
      "The minimum value in X is: -0.4682671096919325\n"
     ]
    }
   ],
   "source": [
    "print('The elements in X have a mean of:', ndist.mean())\n",
    "print('The maximum value in X is:', ndist.max())\n",
    "print('The minimum value in X is:', ndist.min())"
   ]
  },
  {
   "cell_type": "code",
   "execution_count": 137,
   "id": "2e3e79e8",
   "metadata": {},
   "outputs": [
    {
     "data": {
      "text/plain": [
       "array([[ 2,  4,  6,  8],\n",
       "       [10, 12, 14, 16],\n",
       "       [18, 20, 22, 24],\n",
       "       [26, 28, 30, 32]])"
      ]
     },
     "execution_count": 137,
     "metadata": {},
     "output_type": "execute_result"
    }
   ],
   "source": [
    "                # Quiz of Numpy array\n",
    "# Using the Built-in functions you learned about on the\n",
    "# Above page, create a 4 x 4 ndarray that only\n",
    "# contains consecutive even numbers from 2 to 32 (inclusive)\n",
    "\n",
    "np.arange(2,33,2).reshape(4,4)\n",
    "\n"
   ]
  },
  {
   "cell_type": "code",
   "execution_count": 138,
   "id": "b99a2f0f",
   "metadata": {},
   "outputs": [
    {
     "data": {
      "text/plain": [
       "array([[ 2.        ,  4.06666667,  6.13333333,  8.2       ],\n",
       "       [10.26666667, 12.33333333, 14.4       , 16.46666667],\n",
       "       [18.53333333, 20.6       , 22.66666667, 24.73333333],\n",
       "       [26.8       , 28.86666667, 30.93333333, 33.        ]])"
      ]
     },
     "execution_count": 138,
     "metadata": {},
     "output_type": "execute_result"
    }
   ],
   "source": [
    "# Now creating the above array using linspace function\n",
    "# Below 16 will tell it to pick 16 element in the array\n",
    "np.linspace(2,33,16).reshape(4,4)"
   ]
  },
  {
   "cell_type": "code",
   "execution_count": 139,
   "id": "89f14fb3",
   "metadata": {},
   "outputs": [
    {
     "data": {
      "text/plain": [
       "array([[ 0,  4,  8],\n",
       "       [ 1,  5,  9],\n",
       "       [ 2,  6, 10],\n",
       "       [ 3,  7, 11]], dtype=int64)"
      ]
     },
     "execution_count": 139,
     "metadata": {},
     "output_type": "execute_result"
    }
   ],
   "source": [
    "big_arrayT = big_array.T # Transposing array using Capital 'T' which stands for Transpose\n",
    "big_arrayT"
   ]
  },
  {
   "cell_type": "code",
   "execution_count": 140,
   "id": "bd0735c7",
   "metadata": {},
   "outputs": [
    {
     "data": {
      "text/plain": [
       "((32, 8), (8, 32))"
      ]
     },
     "execution_count": 140,
     "metadata": {},
     "output_type": "execute_result"
    }
   ],
   "source": [
    "big_array.strides , big_arrayT.strides"
   ]
  },
  {
   "cell_type": "code",
   "execution_count": 141,
   "id": "2e90475b",
   "metadata": {},
   "outputs": [
    {
     "data": {
      "text/plain": [
       "array([[ -8,  -6,  -4,  -2,   0,   2,   4,   6],\n",
       "       [  8,  10,  12,  14,  16,  18,  20,  22],\n",
       "       [ 24,  26,  28,  30,  32,  34,  36,  38],\n",
       "       [ 40,  42,  44,  46,  48,  50,  52,  54],\n",
       "       [ 56,  58,  60,  62,  64,  66,  68,  70],\n",
       "       [ 72,  74,  76,  78,  80,  82,  84,  86],\n",
       "       [ 88,  90,  92,  94,  96,  98, 100, 102],\n",
       "       [104, 106, 108, 110, 112, 114, 116, 118],\n",
       "       [120, 122, 124, 126, 128, 130, 132, 134],\n",
       "       [136, 138, 140, 142, 144, 146, 148, 150],\n",
       "       [152, 154, 156, 158, 160, 162, 164, 166],\n",
       "       [168, 170, 172, 174, 176, 178, 180, 182],\n",
       "       [184, 186, 188, 190, 192, 194, 196, 198],\n",
       "       [200, 202, 204, 206, 208, 210, 212, 214],\n",
       "       [216, 218, 220, 222, 224, 226, 228, 230],\n",
       "       [232, 234, 236, 238, 240, 242, 244, 246],\n",
       "       [248, 250, 252, 254, 256, 258, 260, 262]])"
      ]
     },
     "execution_count": 141,
     "metadata": {},
     "output_type": "execute_result"
    }
   ],
   "source": [
    "simple = np.arange(-8,264,2).reshape(17,8)\n",
    "simple\n",
    "\n"
   ]
  },
  {
   "cell_type": "code",
   "execution_count": 142,
   "id": "51106df0",
   "metadata": {},
   "outputs": [
    {
     "data": {
      "text/plain": [
       "array([[248, 250, 252, 254,   0,   2,   4,   6],\n",
       "       [  8,  10,  12,  14,  16,  18,  20,  22],\n",
       "       [ 24,  26,  28,  30,  32,  34,  36,  38],\n",
       "       [ 40,  42,  44,  46,  48,  50,  52,  54],\n",
       "       [ 56,  58,  60,  62,  64,  66,  68,  70],\n",
       "       [ 72,  74,  76,  78,  80,  82,  84,  86],\n",
       "       [ 88,  90,  92,  94,  96,  98, 100, 102],\n",
       "       [104, 106, 108, 110, 112, 114, 116, 118],\n",
       "       [120, 122, 124, 126, 128, 130, 132, 134],\n",
       "       [136, 138, 140, 142, 144, 146, 148, 150],\n",
       "       [152, 154, 156, 158, 160, 162, 164, 166],\n",
       "       [168, 170, 172, 174, 176, 178, 180, 182],\n",
       "       [184, 186, 188, 190, 192, 194, 196, 198],\n",
       "       [200, 202, 204, 206, 208, 210, 212, 214],\n",
       "       [216, 218, 220, 222, 224, 226, 228, 230],\n",
       "       [232, 234, 236, 238, 240, 242, 244, 246],\n",
       "       [248, 250, 252, 254,   0,   2,   4,   6]], dtype=uint8)"
      ]
     },
     "execution_count": 142,
     "metadata": {},
     "output_type": "execute_result"
    }
   ],
   "source": [
    "# Following code will change dtype of array to 'uint8' which is unsigned integer of 8-bits \n",
    "# Means uint8 can only store integer values from 0-255 this type is used for image and video processing\n",
    "\n",
    "# If we want an element to take less space then integer than we can use unsigned integers. \n",
    "# If values are outside 0-255 then elements will start from 0 again like below\n",
    "new_simple = simple.astype('uint8')\n",
    "new_simple"
   ]
  },
  {
   "cell_type": "markdown",
   "id": "d2f2f402",
   "metadata": {},
   "source": [
    "In summary `uint8` is used for image processing mostly because pixels takes value between 0-255 and uint is also have range of\n",
    "0-255 so it's memory efficient and computational faster."
   ]
  },
  {
   "cell_type": "code",
   "execution_count": 143,
   "id": "67f6e424",
   "metadata": {},
   "outputs": [
    {
     "data": {
      "text/plain": [
       "array([[ 2,  4,  6],\n",
       "       [ 8, 10, 12],\n",
       "       [14, 16, 18],\n",
       "       [20, 22, 24],\n",
       "       [26, 28, 30]], dtype=uint8)"
      ]
     },
     "execution_count": 143,
     "metadata": {},
     "output_type": "execute_result"
    }
   ],
   "source": [
    "big_array = np.arange(2,32,2).reshape(5,3)\n",
    "# big_array[big_array > 255] = 255\n",
    "big_array = big_array.astype(np.uint8)\n",
    "big_array"
   ]
  },
  {
   "cell_type": "code",
   "execution_count": 144,
   "id": "ba59a108",
   "metadata": {},
   "outputs": [
    {
     "data": {
      "text/plain": [
       "[3, 6, 9]"
      ]
     },
     "execution_count": 144,
     "metadata": {},
     "output_type": "execute_result"
    }
   ],
   "source": [
    "# Vectroization is the process of performing some action on elements in array e.g.\n",
    "# we have a vector and we wish to multiple it's magnitude by 3 how that's will look in traditional python way\n",
    "\n",
    "# In python we have to traverse element by element e.g.\n",
    "a = [1,2,3]\n",
    "b = [3*e for e in a]\n",
    "b\n"
   ]
  },
  {
   "cell_type": "code",
   "execution_count": 145,
   "id": "077389af",
   "metadata": {},
   "outputs": [
    {
     "data": {
      "text/plain": [
       "array([ 2,  4,  6,  8, 10, 12, 14, 16, 18, 20])"
      ]
     },
     "execution_count": 145,
     "metadata": {},
     "output_type": "execute_result"
    }
   ],
   "source": [
    "vecorization = np.arange(1,11).reshape(10,)\n",
    "vecorization_new = vecorization*2\n",
    "vecorization_new"
   ]
  },
  {
   "cell_type": "code",
   "execution_count": 154,
   "id": "fa2ecef9",
   "metadata": {},
   "outputs": [
    {
     "data": {
      "text/plain": [
       "array([[12, 13, 14],\n",
       "       [45, 46, 47],\n",
       "       [78, 79, 80]])"
      ]
     },
     "execution_count": 154,
     "metadata": {},
     "output_type": "execute_result"
    }
   ],
   "source": [
    "# Broadcasting of one array over other e.g\n",
    "\n",
    "# a1 =  1  2  3\n",
    "# a2 = 11 11 11\n",
    "#      44 44 44\n",
    "#      77 77 77\n",
    "# =============\n",
    "# \n",
    "a1 = np.array([1,2,3])\n",
    "a2 = np.array([[11],\n",
    "               [44],\n",
    "               [77]])\n",
    "a1+a2\n",
    "# Now because of a1 array have the shape of (3,) and a2 have the shape of (3,1) so numpy will expands dimenstions of a2 so that\n",
    "# each of the array suits one another."
   ]
  },
  {
   "cell_type": "code",
   "execution_count": 147,
   "id": "2af2b269",
   "metadata": {},
   "outputs": [
    {
     "data": {
      "text/plain": [
       "array([3, 6, 9])"
      ]
     },
     "execution_count": 147,
     "metadata": {},
     "output_type": "execute_result"
    }
   ],
   "source": [
    "# Now if we do the same using vectorization than vectorization will use the brodcasting technique which is much more faster e.g.\n",
    "# Below 3 will be broadcast on all the elements in array [1,2,3] and multiplication will happen in paralell\n",
    "a_vector = np.array([1,2,3])\n",
    "b_vector = a_vector*3\n",
    "b_vector"
   ]
  },
  {
   "cell_type": "code",
   "execution_count": 148,
   "id": "c6115a94",
   "metadata": {},
   "outputs": [],
   "source": [
    "# x (2, 4, 3)\n",
    "# y (   4, 1)\n",
    "# ===========\n",
    "# z (2, 4, 3)\n",
    "\n",
    "# Before broadcasting numpy verifies that all dimensions are suitable if either is 1 or None e.g above will be correct\n"
   ]
  }
 ],
 "metadata": {
  "kernelspec": {
   "display_name": "Python 3 (ipykernel)",
   "language": "python",
   "name": "python3"
  },
  "language_info": {
   "codemirror_mode": {
    "name": "ipython",
    "version": 3
   },
   "file_extension": ".py",
   "mimetype": "text/x-python",
   "name": "python",
   "nbconvert_exporter": "python",
   "pygments_lexer": "ipython3",
   "version": "3.10.8"
  }
 },
 "nbformat": 4,
 "nbformat_minor": 5
}
