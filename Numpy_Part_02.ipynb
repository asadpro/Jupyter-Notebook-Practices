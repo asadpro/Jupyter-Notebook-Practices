{
 "cells": [
  {
   "cell_type": "code",
   "execution_count": 37,
   "id": "61c4136e",
   "metadata": {},
   "outputs": [
    {
     "data": {
      "text/plain": [
       "array([[0, 1, 2],\n",
       "       [3, 4, 5],\n",
       "       [6, 7, 8]])"
      ]
     },
     "execution_count": 37,
     "metadata": {},
     "output_type": "execute_result"
    }
   ],
   "source": [
    "import numpy as np\n",
    "\n",
    "x = np.arange(9).reshape(3,3)\n",
    "x"
   ]
  },
  {
   "cell_type": "code",
   "execution_count": 38,
   "id": "5c47fa8a",
   "metadata": {},
   "outputs": [
    {
     "data": {
      "text/plain": [
       "array([[1, 2],\n",
       "       [3, 4],\n",
       "       [5, 6],\n",
       "       [7, 8]])"
      ]
     },
     "execution_count": 38,
     "metadata": {},
     "output_type": "execute_result"
    }
   ],
   "source": [
    "# Deleting value of first element (0 row 0 column)\n",
    "del_x = np.delete(x,(0,0))\n",
    "del_x = del_x.reshape(4,2)\n",
    "del_x"
   ]
  },
  {
   "cell_type": "code",
   "execution_count": 39,
   "id": "8baefe63",
   "metadata": {},
   "outputs": [
    {
     "data": {
      "text/plain": [
       "array([[3, 4],\n",
       "       [5, 6],\n",
       "       [7, 8]])"
      ]
     },
     "execution_count": 39,
     "metadata": {},
     "output_type": "execute_result"
    }
   ],
   "source": [
    "# Now delete the first row from the above array\n",
    "del_x = np.delete(del_x,0,axis=0)\n",
    "del_x"
   ]
  },
  {
   "cell_type": "code",
   "execution_count": 40,
   "id": "83f1c5aa",
   "metadata": {},
   "outputs": [
    {
     "data": {
      "text/plain": [
       "array([[4],\n",
       "       [6],\n",
       "       [8]])"
      ]
     },
     "execution_count": 40,
     "metadata": {},
     "output_type": "execute_result"
    }
   ],
   "source": [
    "# Delete first column from the above array\n",
    "del_y = np.delete(del_x,0,axis=1)\n",
    "del_y\n"
   ]
  },
  {
   "cell_type": "code",
   "execution_count": 41,
   "id": "605bfdaa",
   "metadata": {},
   "outputs": [
    {
     "data": {
      "text/plain": [
       "array([[1, 2],\n",
       "       [3, 4],\n",
       "       [5, 6]])"
      ]
     },
     "execution_count": 41,
     "metadata": {},
     "output_type": "execute_result"
    }
   ],
   "source": [
    "# We can't insert rows before the first row for that we need insert function\n",
    "# appending to the array\n",
    "a = np.arange(1,6)\n",
    "a = np.append(a,6)  #Appending 6 element to the last\n",
    "a = a.reshape(3,2)\n",
    "a"
   ]
  },
  {
   "cell_type": "code",
   "execution_count": 42,
   "id": "17ecf34b",
   "metadata": {},
   "outputs": [
    {
     "data": {
      "text/plain": [
       "array([[11,  1,  2],\n",
       "       [33,  3,  4],\n",
       "       [55,  5,  6]])"
      ]
     },
     "execution_count": 42,
     "metadata": {},
     "output_type": "execute_result"
    }
   ],
   "source": [
    "# Adding column to the above ndarray\n",
    "np.insert(a,0,[11,33,55],axis=1)"
   ]
  },
  {
   "cell_type": "code",
   "execution_count": 43,
   "id": "ab480c7c",
   "metadata": {},
   "outputs": [
    {
     "data": {
      "text/plain": [
       "array([[ 1,  2],\n",
       "       [ 3,  4],\n",
       "       [ 5,  6],\n",
       "       [11, 22],\n",
       "       [33, 44]])"
      ]
     },
     "execution_count": 43,
     "metadata": {},
     "output_type": "execute_result"
    }
   ],
   "source": [
    "new_a = a.reshape(3,2)\n",
    "\n",
    "# Appending two rows [11,22],[33,44]\n",
    "new_a = np.append(new_a,[[11,22],[33,44]],axis=0)\n",
    "new_a\n",
    "\n"
   ]
  },
  {
   "cell_type": "code",
   "execution_count": 44,
   "id": "f77666a9",
   "metadata": {},
   "outputs": [
    {
     "data": {
      "text/plain": [
       "array([[  1,   2,  22],\n",
       "       [  3,   4,  44],\n",
       "       [  5,   6,  66],\n",
       "       [ 11,  22, 222],\n",
       "       [ 33,  44, 444]])"
      ]
     },
     "execution_count": 44,
     "metadata": {},
     "output_type": "execute_result"
    }
   ],
   "source": [
    "# Appending column to array\n",
    "# new_a = np.append(new_a,[[22,43,34,564,435]],axis=1)\n",
    "\n",
    "# Above line won't work because of it's dimension below every row differentiate by square brackets\n",
    "new_a = np.append(new_a,[[22],[44],[66],[222],[444]],axis=1)\n",
    "new_a"
   ]
  },
  {
   "cell_type": "code",
   "execution_count": 45,
   "id": "eaef3ce4",
   "metadata": {},
   "outputs": [
    {
     "data": {
      "text/plain": [
       "array([[ 0,  1,  2],\n",
       "       [ 3,  4,  5],\n",
       "       [ 6,  7,  8],\n",
       "       [ 9, 10, 11]])"
      ]
     },
     "execution_count": 45,
     "metadata": {},
     "output_type": "execute_result"
    }
   ],
   "source": [
    "# inserting values in array\n",
    "\n",
    "ins = np.arange(12).reshape(4,3)\n",
    "ins"
   ]
  },
  {
   "cell_type": "code",
   "execution_count": 46,
   "id": "129a8162",
   "metadata": {},
   "outputs": [
    {
     "data": {
      "text/plain": [
       "array([[11, 11, 11],\n",
       "       [ 0,  1,  2],\n",
       "       [ 3,  4,  5],\n",
       "       [ 6,  7,  8],\n",
       "       [ 9, 10, 11]])"
      ]
     },
     "execution_count": 46,
     "metadata": {},
     "output_type": "execute_result"
    }
   ],
   "source": [
    "# Insert values along the given axis before the given indices\n",
    "ins = np.insert(ins,0,[11],axis=0)\n",
    "ins"
   ]
  },
  {
   "cell_type": "code",
   "execution_count": 47,
   "id": "1063375f",
   "metadata": {},
   "outputs": [
    {
     "data": {
      "text/plain": [
       "array([[9124,   11,   11,   11],\n",
       "       [9124,    0,    1,    2],\n",
       "       [9124,    3,    4,    5],\n",
       "       [9124,    6,    7,    8],\n",
       "       [9124,    9,   10,   11]])"
      ]
     },
     "execution_count": 47,
     "metadata": {},
     "output_type": "execute_result"
    }
   ],
   "source": [
    "# inserting column at first that we can't do with append method\n",
    "ins = np.insert(ins,0,[9124],axis=1)\n",
    "ins"
   ]
  },
  {
   "cell_type": "code",
   "execution_count": 64,
   "id": "76aecdeb",
   "metadata": {},
   "outputs": [
    {
     "data": {
      "text/plain": [
       "(array([[2, 4],\n",
       "        [6, 8]]),\n",
       " array([[10, 12],\n",
       "        [14, 16]]))"
      ]
     },
     "execution_count": 64,
     "metadata": {},
     "output_type": "execute_result"
    }
   ],
   "source": [
    "# Stacking one array on top of another array\n",
    "stack1 = np.arange(2,9,2).reshape(2,2)\n",
    "stack2 = np.linspace(10,19,4,endpoint=False,dtype=int).reshape(2,2)\n",
    "stack1,stack2"
   ]
  },
  {
   "cell_type": "code",
   "execution_count": 49,
   "id": "95988717",
   "metadata": {},
   "outputs": [
    {
     "data": {
      "text/plain": [
       "[array([[2],\n",
       "        [6]]),\n",
       " array([[4],\n",
       "        [8]])]"
      ]
     },
     "execution_count": 49,
     "metadata": {},
     "output_type": "execute_result"
    }
   ],
   "source": [
    "# Horizontal spliting\n",
    "hor_split = np.hsplit(stack1,2)\n",
    "hor_split"
   ]
  },
  {
   "cell_type": "code",
   "execution_count": 50,
   "id": "38d9d596",
   "metadata": {},
   "outputs": [
    {
     "data": {
      "text/plain": [
       "[array([[2, 4]]), array([[6, 8]])]"
      ]
     },
     "execution_count": 50,
     "metadata": {},
     "output_type": "execute_result"
    }
   ],
   "source": [
    "# Vertical spliting\n",
    "ver_split = np.vsplit(stack1,2)\n",
    "ver_split"
   ]
  },
  {
   "cell_type": "code",
   "execution_count": 51,
   "id": "0f01acd2",
   "metadata": {},
   "outputs": [
    {
     "data": {
      "text/plain": [
       "array([[ 2,  4, 10, 12],\n",
       "       [ 6,  8, 14, 16]])"
      ]
     },
     "execution_count": 51,
     "metadata": {},
     "output_type": "execute_result"
    }
   ],
   "source": [
    "# Horizontal stacking\n",
    "hor_stack = np.hstack((stack1,stack2))\n",
    "hor_stack"
   ]
  },
  {
   "cell_type": "code",
   "execution_count": 52,
   "id": "caae96cf",
   "metadata": {},
   "outputs": [
    {
     "data": {
      "text/plain": [
       "array([[ 2,  4],\n",
       "       [ 6,  8],\n",
       "       [10, 12],\n",
       "       [14, 16]])"
      ]
     },
     "execution_count": 52,
     "metadata": {},
     "output_type": "execute_result"
    }
   ],
   "source": [
    "# Vertical stacking \n",
    "ver_stack = np.vstack((stack1,stack2))\n",
    "ver_stack"
   ]
  },
  {
   "cell_type": "code",
   "execution_count": 53,
   "id": "494c1f54",
   "metadata": {},
   "outputs": [
    {
     "data": {
      "text/plain": [
       "array([[ 2,  4],\n",
       "       [ 6,  8],\n",
       "       [10, 12],\n",
       "       [14, 16]])"
      ]
     },
     "execution_count": 53,
     "metadata": {},
     "output_type": "execute_result"
    }
   ],
   "source": [
    "# Horizontal stacking using append numpy function\n",
    "hor_append_stack = np.append(stack1,stack2,axis=0)\n",
    "hor_append_stack"
   ]
  },
  {
   "cell_type": "code",
   "execution_count": 54,
   "id": "35291d53",
   "metadata": {},
   "outputs": [
    {
     "data": {
      "text/plain": [
       "array([[ 2,  4, 10, 12],\n",
       "       [ 6,  8, 14, 16]])"
      ]
     },
     "execution_count": 54,
     "metadata": {},
     "output_type": "execute_result"
    }
   ],
   "source": [
    "# Vertical stacking using append numpy function\n",
    "ver_append_stack = np.append(stack1,stack2,axis=1)\n",
    "ver_append_stack "
   ]
  },
  {
   "cell_type": "code",
   "execution_count": 55,
   "id": "47a691b0",
   "metadata": {},
   "outputs": [
    {
     "data": {
      "text/plain": [
       "array([[ 2,  4],\n",
       "       [ 6,  8],\n",
       "       [10, 12],\n",
       "       [14, 16]])"
      ]
     },
     "execution_count": 55,
     "metadata": {},
     "output_type": "execute_result"
    }
   ],
   "source": [
    "# Horizontal stacking using insert numpy function\n",
    "\n",
    "# this code will insert stack1 array before first row of stack2 \n",
    "hor_insert_stack = np.insert(stack2,0,stack1,axis=0)\n",
    "hor_insert_stack"
   ]
  },
  {
   "cell_type": "code",
   "execution_count": 56,
   "id": "797f662a",
   "metadata": {},
   "outputs": [
    {
     "data": {
      "text/plain": [
       "array([[10, 12,  2,  6],\n",
       "       [14, 16,  4,  8]])"
      ]
     },
     "execution_count": 56,
     "metadata": {},
     "output_type": "execute_result"
    }
   ],
   "source": [
    "# Vertical stacking using insert numpy function\n",
    "\n",
    "# using insert function we can put array anywhere in the array\n",
    "ver_insert_stack = np.insert(stack2,2,stack1,axis=1)\n",
    "ver_insert_stack"
   ]
  },
  {
   "cell_type": "markdown",
   "id": "f0569118",
   "metadata": {},
   "source": [
    "<h1 style='color:green;'> Numpy Slicing</h1>\n",
    "<hr style=\"height:4px;border-width:2;background-color:green\">"
   ]
  },
  {
   "cell_type": "code",
   "execution_count": 57,
   "id": "85bbc96f",
   "metadata": {},
   "outputs": [
    {
     "data": {
      "text/plain": [
       "array([[ 1,  2,  3,  4,  5],\n",
       "       [ 6,  7,  8,  9, 10],\n",
       "       [11, 12, 13, 14, 15],\n",
       "       [16, 17, 18, 19, 20]])"
      ]
     },
     "execution_count": 57,
     "metadata": {},
     "output_type": "execute_result"
    }
   ],
   "source": [
    "arr = np.arange(1,21).reshape(4,5)\n",
    "arr"
   ]
  },
  {
   "cell_type": "code",
   "execution_count": 58,
   "id": "d79139e8",
   "metadata": {},
   "outputs": [
    {
     "data": {
      "text/plain": [
       "array([[ 8,  9, 10],\n",
       "       [13, 14, 15],\n",
       "       [18, 19, 20]])"
      ]
     },
     "execution_count": 58,
     "metadata": {},
     "output_type": "execute_result"
    }
   ],
   "source": [
    "# We want to access only 8, 9, 10 and below all the values column wise to do that we need slicing technique\n",
    "\n",
    "# Below 1 indicate row and 2 indicate columns we can also mention steps\n",
    "arr[1:,2:]"
   ]
  },
  {
   "cell_type": "code",
   "execution_count": 59,
   "id": "7efb58ca",
   "metadata": {},
   "outputs": [],
   "source": [
    "# Now select all the elements from the third row and return it in rank 2 array\n",
    "view = arr[2:3].reshape((5,1))"
   ]
  },
  {
   "cell_type": "code",
   "execution_count": 60,
   "id": "e9713302",
   "metadata": {},
   "outputs": [
    {
     "data": {
      "text/plain": [
       "(1486863336144, 1486863336144)"
      ]
     },
     "execution_count": 60,
     "metadata": {},
     "output_type": "execute_result"
    }
   ],
   "source": [
    "id(view),id(view)\n"
   ]
  },
  {
   "cell_type": "code",
   "execution_count": 61,
   "id": "ddd8925f",
   "metadata": {},
   "outputs": [
    {
     "data": {
      "text/plain": [
       "array([[ 1,  2,  3,  4,  5],\n",
       "       [ 6,  7,  8,  9, 10],\n",
       "       [11, 12, 13, 14, 15],\n",
       "       [16, 17, 18, 19, 20]])"
      ]
     },
     "execution_count": 61,
     "metadata": {},
     "output_type": "execute_result"
    }
   ],
   "source": [
    "arr"
   ]
  },
  {
   "cell_type": "code",
   "execution_count": 62,
   "id": "83298a46",
   "metadata": {},
   "outputs": [
    {
     "data": {
      "text/plain": [
       "array([ 6, 12, 18])"
      ]
     },
     "execution_count": 62,
     "metadata": {},
     "output_type": "execute_result"
    }
   ],
   "source": [
    "# Extracting values from diagnal\n",
    "# The Following command will extract values from 0 index upto the end on diagnol. we can also use indices (-1,0,1,2 etc)\n",
    "np.diag(arr,k=-1)"
   ]
  },
  {
   "cell_type": "code",
   "execution_count": 63,
   "id": "98466ddd",
   "metadata": {},
   "outputs": [
    {
     "data": {
      "text/plain": [
       "(array([ 1,  2,  3,  4,  5,  6,  7,  8,  9, 10, 11, 12, 13, 14, 15, 16, 17,\n",
       "        18, 19, 20]),\n",
       " array([ 0,  1,  2,  3,  4,  5,  6,  7,  8,  9, 10, 11, 12, 13, 14, 15, 16,\n",
       "        17, 18, 19], dtype=int64))"
      ]
     },
     "execution_count": 63,
     "metadata": {},
     "output_type": "execute_result"
    }
   ],
   "source": [
    "# This function will return unique values from an array and it's indices as well.\n",
    "np.unique(arr,return_index=True)"
   ]
  },
  {
   "cell_type": "code",
   "execution_count": null,
   "id": "0f60c99e",
   "metadata": {},
   "outputs": [],
   "source": []
  }
 ],
 "metadata": {
  "kernelspec": {
   "display_name": "Python 3 (ipykernel)",
   "language": "python",
   "name": "python3"
  },
  "language_info": {
   "codemirror_mode": {
    "name": "ipython",
    "version": 3
   },
   "file_extension": ".py",
   "mimetype": "text/x-python",
   "name": "python",
   "nbconvert_exporter": "python",
   "pygments_lexer": "ipython3",
   "version": "3.10.8"
  }
 },
 "nbformat": 4,
 "nbformat_minor": 5
}
