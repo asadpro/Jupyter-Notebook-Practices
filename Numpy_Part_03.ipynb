{
 "cells": [
  {
   "cell_type": "code",
   "execution_count": 52,
   "id": "ffa9bbbf",
   "metadata": {},
   "outputs": [],
   "source": [
    "import numpy as np\n"
   ]
  },
  {
   "cell_type": "code",
   "execution_count": 53,
   "id": "646c5e4b",
   "metadata": {},
   "outputs": [
    {
     "name": "stdout",
     "output_type": "stream",
     "text": [
      "[12 15 18]\n",
      "[ 6 15 24]\n"
     ]
    }
   ],
   "source": [
    "# Create a 2D array\n",
    "arr = np.array([\n",
    "    [1, 2, 3],\n",
    "    [4, 5, 6],\n",
    "    [7, 8, 9]\n",
    "             ])\n",
    "\n",
    "# Sum of elements along axis=0 (column-wise)\n",
    "print(np.sum(arr, axis=0))  # Output: [12 15 18]\n",
    "\n",
    "# Sum of elements along axis=1 (row-wise)\n",
    "print(np.sum(arr, axis=1))  # Output: [ 6 15 24]\n"
   ]
  },
  {
   "cell_type": "code",
   "execution_count": 54,
   "id": "d4f14714",
   "metadata": {},
   "outputs": [
    {
     "data": {
      "text/plain": [
       "array([[ 0,  1,  2,  3,  4],\n",
       "       [ 5,  6,  7,  8,  9],\n",
       "       [10, 11, 12, 13, 14],\n",
       "       [15, 16, 17, 18, 19],\n",
       "       [20, 21, 22, 23, 24]])"
      ]
     },
     "execution_count": 54,
     "metadata": {},
     "output_type": "execute_result"
    }
   ],
   "source": [
    "x = np.arange(25).reshape(5,5)\n",
    "x"
   ]
  },
  {
   "cell_type": "code",
   "execution_count": 55,
   "id": "26058e8a",
   "metadata": {},
   "outputs": [
    {
     "data": {
      "text/plain": [
       "array([[[ 0,  1,  2,  3,  4],\n",
       "        [ 5,  6,  7,  8,  9],\n",
       "        [10, 11, 13, 13, 15],\n",
       "        [15, 17, 17, 19, 19],\n",
       "        [21, 21, 23, 23, 25]]], dtype=int32)"
      ]
     },
     "execution_count": 55,
     "metadata": {},
     "output_type": "execute_result"
    }
   ],
   "source": [
    "# Boolean expression is needed when we want to select a specific range of elements from an array e.g.\n",
    "# Selecting values greater than 11 from above array\n",
    "x|[x>10]"
   ]
  },
  {
   "cell_type": "code",
   "execution_count": 56,
   "id": "184afa69",
   "metadata": {},
   "outputs": [
    {
     "data": {
      "text/plain": [
       "array([11, 12, 13, 14, 15, 16, 17, 18, 19, 20, 21, 22, 23, 24])"
      ]
     },
     "execution_count": 56,
     "metadata": {},
     "output_type": "execute_result"
    }
   ],
   "source": [
    "# The elements in X that are greater than 10\n",
    "x[x>10] "
   ]
  },
  {
   "cell_type": "code",
   "execution_count": 57,
   "id": "4f523223",
   "metadata": {},
   "outputs": [
    {
     "data": {
      "text/plain": [
       "array([0, 1, 2, 3, 4, 5, 6, 7])"
      ]
     },
     "execution_count": 57,
     "metadata": {},
     "output_type": "execute_result"
    }
   ],
   "source": [
    "# The elements in X that less than or equal to 7\n",
    "x[x<=7]\n"
   ]
  },
  {
   "cell_type": "code",
   "execution_count": 58,
   "id": "3a71adc9",
   "metadata": {},
   "outputs": [
    {
     "data": {
      "text/plain": [
       "array([11, 12, 13, 14, 15, 16])"
      ]
     },
     "execution_count": 58,
     "metadata": {},
     "output_type": "execute_result"
    }
   ],
   "source": [
    "# The elements in X that are between 10 and 17\n",
    "x[(x>10) & (x<17)]"
   ]
  },
  {
   "cell_type": "code",
   "execution_count": 59,
   "id": "8f2a9ab0",
   "metadata": {},
   "outputs": [
    {
     "data": {
      "text/plain": [
       "array([[-1, -1, -1, -1, -1],\n",
       "       [-1, -1, -1, -1, -1],\n",
       "       [ 0,  0,  0,  0,  0],\n",
       "       [ 0,  0,  0,  0,  0],\n",
       "       [ 0,  0,  0,  0,  0]])"
      ]
     },
     "execution_count": 59,
     "metadata": {},
     "output_type": "execute_result"
    }
   ],
   "source": [
    "# Elements that are less than 10 replace it with -1 and greater than 10 replace it with zero\n",
    "x[x<10] = -1\n",
    "x[(x>-1) | (x==10) ] = 0\n",
    "x"
   ]
  },
  {
   "cell_type": "code",
   "execution_count": 60,
   "id": "c8a096d8",
   "metadata": {},
   "outputs": [
    {
     "data": {
      "text/plain": [
       "array([[ 4,  7, 23,  9],\n",
       "       [75,  7,  5, 34],\n",
       "       [67, 99, 67, 54],\n",
       "       [32, 62, 33, 22]])"
      ]
     },
     "execution_count": 60,
     "metadata": {},
     "output_type": "execute_result"
    }
   ],
   "source": [
    "y = np.array([4,7,23,9,75,7,5,34,67,99,67,54,32,62,33,22]).reshape(4,4)\n",
    "y"
   ]
  },
  {
   "cell_type": "code",
   "execution_count": 61,
   "id": "792bba7a",
   "metadata": {},
   "outputs": [],
   "source": [
    "# This will sort after flattening the array\n",
    "# np.sort(y)"
   ]
  },
  {
   "cell_type": "code",
   "execution_count": 62,
   "id": "3628f4fa",
   "metadata": {},
   "outputs": [
    {
     "data": {
      "text/plain": [
       "array([[ 4,  7,  5,  9],\n",
       "       [32,  7, 23, 22],\n",
       "       [67, 62, 33, 34],\n",
       "       [75, 99, 67, 54]])"
      ]
     },
     "execution_count": 62,
     "metadata": {},
     "output_type": "execute_result"
    }
   ],
   "source": [
    "# sorting array column wise\n",
    "np.sort(y,axis=0)"
   ]
  },
  {
   "cell_type": "code",
   "execution_count": 73,
   "id": "64e7fcd5",
   "metadata": {},
   "outputs": [
    {
     "name": "stdout",
     "output_type": "stream",
     "text": [
      "[[ 4  7 23  9]\n",
      " [75  7  5 34]\n",
      " [67 99 67 54]\n",
      " [32 62 33 22]]\n",
      "\n",
      "=============\n",
      "\n",
      "[23 75 99 62]\n"
     ]
    }
   ],
   "source": [
    "print(y)\n",
    "\n",
    "print('\\n=============\\n')\n",
    "\n",
    "# Also return maximum on the zero-axis\n",
    "print(np.max(y,axis=1))\n"
   ]
  },
  {
   "cell_type": "code",
   "execution_count": 64,
   "id": "db154333",
   "metadata": {},
   "outputs": [
    {
     "name": "stdout",
     "output_type": "stream",
     "text": [
      "Row-Wise sum:  [ 43 121 287 149]\n",
      "Standard deviation:  [ 7.29297607 28.26105978 16.60383992 14.92271758]\n",
      "Average:  [10.75 30.25 71.75 37.25]\n",
      "Values on diagnol:  [75 99 33]\n"
     ]
    }
   ],
   "source": [
    "# Sum of all the element row wise \n",
    "print('Row-Wise sum: ',np.sum(y,axis=1))\n",
    "\n",
    "# Standard deviation of row 1\n",
    "print('Standard deviation: ',np.std(y,axis=1))\n",
    "\n",
    "# Average/mean of row 1\n",
    "print('Average: ',np.mean(y,axis=1))\n",
    "\n",
    "# Getting values from diagonal of the matrix 'Y'\n",
    "print('Values on diagnol: ',np.diag(y,k=-1))"
   ]
  },
  {
   "cell_type": "code",
   "execution_count": 65,
   "id": "df533284",
   "metadata": {},
   "outputs": [
    {
     "name": "stdout",
     "output_type": "stream",
     "text": [
      "[2 4]\n",
      "[1 2 3 4 5 6 7 8]\n"
     ]
    }
   ],
   "source": [
    "# Performing set operating on Rank 1 and Rank 2 array\n",
    "\n",
    "# common values in arr1 and arr2 array\n",
    "arr1 = np.array([6,7,2,8,4])\n",
    "arr2 = np.array([1,2,3,4,5])\n",
    "print(np.intersect1d(arr1,arr2))\n",
    "\n",
    "# union of both arrays\n",
    "print(np.union1d(arr1,arr2))"
   ]
  },
  {
   "cell_type": "code",
   "execution_count": 66,
   "id": "fba12f5f",
   "metadata": {},
   "outputs": [
    {
     "name": "stdout",
     "output_type": "stream",
     "text": [
      "[6 7 8]\n"
     ]
    }
   ],
   "source": [
    "# Elements of arr1 that are not in arr2\n",
    "print(np.setdiff1d(arr1,arr2))"
   ]
  },
  {
   "cell_type": "code",
   "execution_count": 67,
   "id": "48c0445e",
   "metadata": {},
   "outputs": [
    {
     "data": {
      "text/plain": [
       "array([2, 4, 6, 7, 8])"
      ]
     },
     "execution_count": 67,
     "metadata": {},
     "output_type": "execute_result"
    }
   ],
   "source": [
    "# If using unique method then we don't need of sorted function to order the elements\n",
    "np.unique(arr1)"
   ]
  },
  {
   "cell_type": "code",
   "execution_count": 68,
   "id": "337da6bd",
   "metadata": {},
   "outputs": [
    {
     "data": {
      "text/plain": [
       "array([ 1,  3,  5,  7,  9, 11, 13, 15, 17, 19, 21, 23, 25])"
      ]
     },
     "execution_count": 68,
     "metadata": {},
     "output_type": "execute_result"
    }
   ],
   "source": [
    "# Create a 5 x 5 ndarray with consecutive integers from 1 to 25 (inclusive).\n",
    "# Afterwards use Boolean indexing to pick out only the odd numbers in the array\n",
    "\n",
    "# Create a 5 x 5 ndarray with consecutive integers from 1 to 25 (inclusive).\n",
    "X = np.arange(1,26).reshape(5,5)\n",
    "X\n",
    "\n",
    "# Use Boolean indexing to pick out only the odd numbers in the array\n",
    "Y = X[X%2==1]\n",
    "Y\n"
   ]
  },
  {
   "cell_type": "code",
   "execution_count": 69,
   "id": "7a314d12",
   "metadata": {},
   "outputs": [
    {
     "name": "stdout",
     "output_type": "stream",
     "text": [
      "The size of useless:  800000128\n",
      "0.38562870025634766\n",
      "The size of usefull:  80112\n",
      "0.04787111282348633\n"
     ]
    }
   ],
   "source": [
    "\"\"\"\n",
    "Rules of Broadcasting e.g.\n",
    "x = [1,2,3]\n",
    "\n",
    "y = [\n",
    "    [4,5,6],\n",
    "    [7,8,9],\n",
    "    ]\n",
    "by broadcasting x on y numpy will replicate the 'x' array over y matrix means\n",
    "a single copy of array 'x' would be create for both of the rows in matrix 'y'\n",
    "That could lead us to inefficient usage of memory if we are working on larger arrays.\n",
    "\n",
    "Soution: The solution of this problem would be numpy.add() function\n",
    "\"\"\"\n",
    "# Let's see an example also calculate it's execution time and it's size on memory\n",
    "import time\n",
    "import sys\n",
    "\n",
    "# Creating 1D-Array of which shape is compatible with 2D-Array \n",
    "small_arr = np.arange(10000)\n",
    "big_arr = np.random.rand(10000,10000)\n",
    "\n",
    "start1 = time.time()\n",
    "useless = small_arr*big_arr\n",
    "print(\"The size of useless: \",sys.getsizeof(useless))\n",
    "print((time.time()-start1))\n",
    "\n",
    "# As we can see numpy \n",
    "start2 = time.time()\n",
    "useful = np.dot(small_arr,big_arr)\n",
    "print(\"The size of usefull: \",sys.getsizeof(useful))\n",
    "print(time.time()-start2)\n",
    "\n"
   ]
  },
  {
   "cell_type": "code",
   "execution_count": 70,
   "id": "0db6b799",
   "metadata": {},
   "outputs": [
    {
     "name": "stdout",
     "output_type": "stream",
     "text": [
      "598 ns ± 22.8 ns per loop (mean ± std. dev. of 7 runs, 1,000,000 loops each)\n",
      "1.37 µs ± 29.5 ns per loop (mean ± std. dev. of 7 runs, 1,000,000 loops each)\n"
     ]
    }
   ],
   "source": [
    "# @ sign is the shortcut of matrix multiplication\n",
    "\n",
    "mat1 = np.array([[1, 2], [3, 4]])\n",
    "mat2 = np.array([[5, 6], [7, 8]])\n",
    "%timeit mat1 * mat2\n",
    "\n",
    "# print(result)\n",
    "\n",
    "%timeit np.matmul(mat1,mat2)\n",
    "\n",
    "\n"
   ]
  },
  {
   "cell_type": "code",
   "execution_count": 124,
   "id": "d71d8c11",
   "metadata": {},
   "outputs": [
    {
     "data": {
      "text/plain": [
       "array([[1, 2, 3, 4],\n",
       "       [1, 2, 3, 4],\n",
       "       [1, 2, 3, 4],\n",
       "       [1, 2, 3, 4]])"
      ]
     },
     "execution_count": 124,
     "metadata": {},
     "output_type": "execute_result"
    }
   ],
   "source": [
    "# Use Broadcasting to create a 4 x 4 ndarray that has its first\n",
    "# column full of 1s, its second column full of 2s, its third column full of 3s, etc.. \n",
    "\n",
    "# Do not change the name of this array. \n",
    "# Please don't print anything from your code! The TEST RUN button below will print your array. \n",
    "\n",
    "one = np.ones((4,4),dtype=int)\n",
    "nums = np.arange(1,5,dtype=int)\n",
    "\n",
    "X =  one * nums\n",
    "\n",
    "# We can do the same using creating a random or contain any numbers in matrix of shape (4,4) and replace matrix with \n",
    "# element column wise e.g.\n",
    "\n",
    "randArray = np.arange(1,17).reshape(4,4)\n",
    "randArray\n",
    "\n",
    "\n",
    "# Now below code will select the first column and will replace it with corresponding values\n",
    "element = 1\n",
    "for i in range(4):\n",
    "    randArray[:,i] = element\n",
    "    element+=1\n",
    "\n",
    "# randArray[[0],0] = 2342\n",
    "randArray\n"
   ]
  },
  {
   "cell_type": "code",
   "execution_count": 72,
   "id": "23d9f7d6",
   "metadata": {},
   "outputs": [
    {
     "name": "stdout",
     "output_type": "stream",
     "text": [
      "[[ 0  1  2  3]\n",
      " [ 4  5  6  7]\n",
      " [ 8  9 10 11]]\n"
     ]
    },
    {
     "data": {
      "text/plain": [
       "array([1.5, 5.5, 9.5])"
      ]
     },
     "execution_count": 72,
     "metadata": {},
     "output_type": "execute_result"
    }
   ],
   "source": [
    "# Finding median of matrix by following it's axis\n",
    "med = np.arange(12).reshape(3,4)\n",
    "print(med)\n",
    "\n",
    "np.median(med,axis=1)"
   ]
  }
 ],
 "metadata": {
  "kernelspec": {
   "display_name": "Python 3 (ipykernel)",
   "language": "python",
   "name": "python3"
  },
  "language_info": {
   "codemirror_mode": {
    "name": "ipython",
    "version": 3
   },
   "file_extension": ".py",
   "mimetype": "text/x-python",
   "name": "python",
   "nbconvert_exporter": "python",
   "pygments_lexer": "ipython3",
   "version": "3.10.8"
  }
 },
 "nbformat": 4,
 "nbformat_minor": 5
}
