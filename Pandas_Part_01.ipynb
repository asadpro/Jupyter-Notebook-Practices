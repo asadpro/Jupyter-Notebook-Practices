{
 "cells": [
  {
   "cell_type": "code",
   "execution_count": 40,
   "id": "28f5163e",
   "metadata": {},
   "outputs": [
    {
     "data": {
      "text/plain": [
       "Honda Civics    220KMH\n",
       "Honda 125       120KMH\n",
       "Riksha           60KMH\n",
       "Zxmco           100KMH\n",
       "dtype: object"
      ]
     },
     "execution_count": 40,
     "metadata": {},
     "output_type": "execute_result"
    }
   ],
   "source": [
    "import pandas as pd\n",
    "import numpy as np\n",
    "\n",
    "car_speed = pd.Series(data=['220KMH','120KMH','60KMH','100KMH'],index=['Honda Civics','Honda 125','Riksha','Zxmco'])\n",
    "car_speed"
   ]
  },
  {
   "cell_type": "code",
   "execution_count": 41,
   "id": "104f007f",
   "metadata": {},
   "outputs": [
    {
     "name": "stdout",
     "output_type": "stream",
     "text": [
      "The data in car_speed is: ['220KMH' '120KMH' '60KMH' '100KMH']\n",
      "The index of car_speed is: Index(['Honda Civics', 'Honda 125', 'Riksha', 'Zxmco'], dtype='object')\n"
     ]
    }
   ],
   "source": [
    "# We print the index and data of Groceries\n",
    "print('The data in car_speed is:', car_speed.values)\n",
    "print('The index of car_speed is:', car_speed.index)"
   ]
  },
  {
   "cell_type": "code",
   "execution_count": 42,
   "id": "1173c1f3",
   "metadata": {},
   "outputs": [
    {
     "name": "stdout",
     "output_type": "stream",
     "text": [
      "car_speed has shape: (4,)\n",
      "car_speed has dimension: 1\n",
      "car_speed has a total of 4 elements\n"
     ]
    }
   ],
   "source": [
    "print('car_speed has shape:', car_speed.shape)\n",
    "print('car_speed has dimension:', car_speed.ndim)\n",
    "print('car_speed has a total of', car_speed.size, 'elements')"
   ]
  },
  {
   "cell_type": "markdown",
   "id": "72c02d93",
   "metadata": {},
   "source": [
    "#### If we have a large dataset and we are unable to know whether a label or value exists we can use the member operator `is` and `is not`"
   ]
  },
  {
   "cell_type": "code",
   "execution_count": 43,
   "id": "b6c0167e",
   "metadata": {},
   "outputs": [
    {
     "data": {
      "text/plain": [
       "(True, False)"
      ]
     },
     "execution_count": 43,
     "metadata": {},
     "output_type": "execute_result"
    }
   ],
   "source": [
    "# We can also check whether a value exist in a pandas series or not.\n",
    "'Honda Civics' in car_speed, 'Honda' in car_speed"
   ]
  },
  {
   "cell_type": "code",
   "execution_count": 44,
   "id": "2c03c338",
   "metadata": {},
   "outputs": [
    {
     "name": "stdout",
     "output_type": "stream",
     "text": [
      "Honda Civics 220KMH\n",
      "Honda 125 120KMH\n",
      "Riksha 60KMH\n",
      "Zxmco 100KMH\n"
     ]
    }
   ],
   "source": [
    "# Accesing data and index of it can be accessed using items() method just like we do with python dictionary\n",
    "\n",
    "for data,value in car_speed.items():\n",
    "    print(data,value)"
   ]
  },
  {
   "cell_type": "markdown",
   "id": "76f624f7",
   "metadata": {},
   "source": [
    "<h3 style='color:Orange;'>Accessing panda's values and changing, removing it</h3>"
   ]
  },
  {
   "cell_type": "code",
   "execution_count": 45,
   "id": "ab47ff46",
   "metadata": {},
   "outputs": [
    {
     "data": {
      "text/plain": [
       "eggs       30\n",
       "apples      6\n",
       "milk      Yes\n",
       "bread      No\n",
       "dtype: object"
      ]
     },
     "execution_count": 45,
     "metadata": {},
     "output_type": "execute_result"
    }
   ],
   "source": [
    "grocerries = pd.Series(data=[30,6,'Yes','No'],index=['eggs','apples','milk','bread'])\n",
    "grocerries"
   ]
  },
  {
   "cell_type": "code",
   "execution_count": 46,
   "id": "999039cb",
   "metadata": {},
   "outputs": [
    {
     "data": {
      "text/plain": [
       "30"
      ]
     },
     "execution_count": 46,
     "metadata": {},
     "output_type": "execute_result"
    }
   ],
   "source": [
    "# Accesing elements by it's name index\n",
    "grocerries['eggs']"
   ]
  },
  {
   "cell_type": "code",
   "execution_count": 47,
   "id": "0d821037",
   "metadata": {},
   "outputs": [
    {
     "data": {
      "text/plain": [
       "30"
      ]
     },
     "execution_count": 47,
     "metadata": {},
     "output_type": "execute_result"
    }
   ],
   "source": [
    "# Accesing elements by it's integer index\n",
    "grocerries[0]"
   ]
  },
  {
   "cell_type": "code",
   "execution_count": 48,
   "id": "b90baf95",
   "metadata": {},
   "outputs": [
    {
     "data": {
      "text/plain": [
       "eggs      30\n",
       "apples     6\n",
       "bread     No\n",
       "dtype: object"
      ]
     },
     "execution_count": 48,
     "metadata": {},
     "output_type": "execute_result"
    }
   ],
   "source": [
    "# Accessing multiple values by integer indexing\n",
    "grocerries[[0,1,3]]\n"
   ]
  },
  {
   "cell_type": "code",
   "execution_count": 49,
   "id": "32abbef9",
   "metadata": {},
   "outputs": [
    {
     "data": {
      "text/plain": [
       "apples      6\n",
       "milk      Yes\n",
       "bread      No\n",
       "dtype: object"
      ]
     },
     "execution_count": 49,
     "metadata": {},
     "output_type": "execute_result"
    }
   ],
   "source": [
    "# Now to mitigate the confusion of names and integer indexing we have two method 'iloc' and 'loc' stands for 'integer location'.\n",
    "grocerries.iloc[[1,2,3]]"
   ]
  },
  {
   "cell_type": "code",
   "execution_count": 50,
   "id": "2088422a",
   "metadata": {},
   "outputs": [
    {
     "data": {
      "text/plain": [
       "eggs      30\n",
       "apples     6\n",
       "bread     No\n",
       "dtype: object"
      ]
     },
     "execution_count": 50,
     "metadata": {},
     "output_type": "execute_result"
    }
   ],
   "source": [
    "# Accessing location of an array by name unlike accessing by index\n",
    "grocerries.loc[['eggs','apples','bread']]"
   ]
  },
  {
   "cell_type": "code",
   "execution_count": 51,
   "id": "73d647ac",
   "metadata": {},
   "outputs": [
    {
     "data": {
      "text/plain": [
       "apples      6\n",
       "milk      Yes\n",
       "bread      No\n",
       "dtype: object"
      ]
     },
     "execution_count": 51,
     "metadata": {},
     "output_type": "execute_result"
    }
   ],
   "source": [
    "# Removing value of series permanently and temporarily\n",
    "grocerries.drop('eggs')"
   ]
  },
  {
   "cell_type": "code",
   "execution_count": 52,
   "id": "14145cc5",
   "metadata": {},
   "outputs": [
    {
     "data": {
      "text/plain": [
       "eggs       30\n",
       "apples      6\n",
       "milk      Yes\n",
       "bread      No\n",
       "dtype: object"
      ]
     },
     "execution_count": 52,
     "metadata": {},
     "output_type": "execute_result"
    }
   ],
   "source": [
    "# Now if we can see the eggs item didn't drop permanently to do so we need another parameter to put in drop method.\n",
    "grocerries"
   ]
  },
  {
   "cell_type": "code",
   "execution_count": 53,
   "id": "e82d45b6",
   "metadata": {},
   "outputs": [
    {
     "data": {
      "text/plain": [
       "apples      6\n",
       "milk      Yes\n",
       "bread      No\n",
       "dtype: object"
      ]
     },
     "execution_count": 53,
     "metadata": {},
     "output_type": "execute_result"
    }
   ],
   "source": [
    "# Removing eggs permanently from series\n",
    "grocerries.drop(labels='eggs',inplace=True)\n",
    "grocerries"
   ]
  },
  {
   "cell_type": "markdown",
   "id": "e8636d55",
   "metadata": {},
   "source": [
    "<h3 style='color:darkred;'>Arithmetic Operations on Pandas Series</h3>"
   ]
  },
  {
   "cell_type": "code",
   "execution_count": 54,
   "id": "3d560177",
   "metadata": {},
   "outputs": [
    {
     "data": {
      "text/plain": [
       "apples     10\n",
       "orange      6\n",
       "bananas     3\n",
       "dtype: int32"
      ]
     },
     "execution_count": 54,
     "metadata": {},
     "output_type": "execute_result"
    }
   ],
   "source": [
    "fruits = pd.Series(data=[10,6,3],index=['apples','orange','bananas'],dtype=int)\n",
    "fruits\n"
   ]
  },
  {
   "cell_type": "code",
   "execution_count": 55,
   "id": "5a8a0e96",
   "metadata": {},
   "outputs": [
    {
     "data": {
      "text/plain": [
       "apples     20\n",
       "orange     12\n",
       "bananas     6\n",
       "dtype: int32"
      ]
     },
     "execution_count": 55,
     "metadata": {},
     "output_type": "execute_result"
    }
   ],
   "source": [
    "# Double all the fruits in series\n",
    "fruits *2"
   ]
  },
  {
   "cell_type": "code",
   "execution_count": 56,
   "id": "519de9d4",
   "metadata": {},
   "outputs": [
    {
     "data": {
      "text/plain": [
       "apples     20\n",
       "orange      6\n",
       "bananas     3\n",
       "dtype: int32"
      ]
     },
     "execution_count": 56,
     "metadata": {},
     "output_type": "execute_result"
    }
   ],
   "source": [
    "# Double only the apples in Series permanently\n",
    "fruits['apples'] = fruits['apples']*2\n",
    "fruits"
   ]
  },
  {
   "cell_type": "code",
   "execution_count": 57,
   "id": "c2ca87aa",
   "metadata": {},
   "outputs": [
    {
     "data": {
      "text/plain": [
       "(36, 2.0, -10)"
      ]
     },
     "execution_count": 57,
     "metadata": {},
     "output_type": "execute_result"
    }
   ],
   "source": [
    "# We can perform all arithematic operations on the values (+ , - , / , * , ** )\n",
    "fruits[1]**2  ,fruits[1]/3 , fruits['apples'] - 30"
   ]
  },
  {
   "cell_type": "markdown",
   "id": "92a4216b",
   "metadata": {},
   "source": [
    "### Using numpy on Pandas series"
   ]
  },
  {
   "cell_type": "code",
   "execution_count": 58,
   "id": "985b03b5",
   "metadata": {},
   "outputs": [
    {
     "data": {
      "text/plain": [
       "apples     20\n",
       "orange      6\n",
       "bananas     3\n",
       "dtype: int32"
      ]
     },
     "execution_count": 58,
     "metadata": {},
     "output_type": "execute_result"
    }
   ],
   "source": [
    "fruits"
   ]
  },
  {
   "cell_type": "code",
   "execution_count": 59,
   "id": "563ed8e9",
   "metadata": {},
   "outputs": [
    {
     "data": {
      "text/plain": [
       "29"
      ]
     },
     "execution_count": 59,
     "metadata": {},
     "output_type": "execute_result"
    }
   ],
   "source": [
    "np.sum(fruits)"
   ]
  },
  {
   "cell_type": "code",
   "execution_count": 60,
   "id": "072403e7",
   "metadata": {},
   "outputs": [
    {
     "data": {
      "text/plain": [
       "9.666666666666666"
      ]
     },
     "execution_count": 60,
     "metadata": {},
     "output_type": "execute_result"
    }
   ],
   "source": [
    "np.mean(fruits)"
   ]
  },
  {
   "cell_type": "code",
   "execution_count": 61,
   "id": "60774aee",
   "metadata": {},
   "outputs": [
    {
     "data": {
      "text/plain": [
       "4.47213595499958"
      ]
     },
     "execution_count": 61,
     "metadata": {},
     "output_type": "execute_result"
    }
   ],
   "source": [
    "np.sqrt(fruits['apples'])"
   ]
  },
  {
   "cell_type": "code",
   "execution_count": 62,
   "id": "1af91e0b",
   "metadata": {},
   "outputs": [
    {
     "data": {
      "text/plain": [
       "216"
      ]
     },
     "execution_count": 62,
     "metadata": {},
     "output_type": "execute_result"
    }
   ],
   "source": [
    "np.power(fruits['orange'],3) # 6**3 = 216"
   ]
  },
  {
   "cell_type": "markdown",
   "id": "7b6b4a81",
   "metadata": {},
   "source": [
    "### Create a pandas series the contain multiple types of data"
   ]
  },
  {
   "cell_type": "code",
   "execution_count": 64,
   "id": "8137c19a",
   "metadata": {},
   "outputs": [
    {
     "data": {
      "text/html": [
       "<div>\n",
       "<style scoped>\n",
       "    .dataframe tbody tr th:only-of-type {\n",
       "        vertical-align: middle;\n",
       "    }\n",
       "\n",
       "    .dataframe tbody tr th {\n",
       "        vertical-align: top;\n",
       "    }\n",
       "\n",
       "    .dataframe thead th {\n",
       "        text-align: right;\n",
       "    }\n",
       "</style>\n",
       "<table border=\"1\" class=\"dataframe\">\n",
       "  <thead>\n",
       "    <tr style=\"text-align: right;\">\n",
       "      <th></th>\n",
       "      <th>apple</th>\n",
       "      <th>a</th>\n",
       "      <th>b</th>\n",
       "      <th>d</th>\n",
       "      <th>c</th>\n",
       "    </tr>\n",
       "  </thead>\n",
       "  <tbody>\n",
       "    <tr>\n",
       "      <th>0</th>\n",
       "      <td>3</td>\n",
       "      <td>67.0</td>\n",
       "      <td>68.0</td>\n",
       "      <td>44.0</td>\n",
       "      <td>NaN</td>\n",
       "    </tr>\n",
       "    <tr>\n",
       "      <th>1</th>\n",
       "      <td>4</td>\n",
       "      <td>97.0</td>\n",
       "      <td>50.0</td>\n",
       "      <td>NaN</td>\n",
       "      <td>69.0</td>\n",
       "    </tr>\n",
       "    <tr>\n",
       "      <th>2</th>\n",
       "      <td>5</td>\n",
       "      <td>NaN</td>\n",
       "      <td>NaN</td>\n",
       "      <td>70.0</td>\n",
       "      <td>60.0</td>\n",
       "    </tr>\n",
       "  </tbody>\n",
       "</table>\n",
       "</div>"
      ],
      "text/plain": [
       "   apple     a     b     d     c\n",
       "0      3  67.0  68.0  44.0   NaN\n",
       "1      4  97.0  50.0   NaN  69.0\n",
       "2      5   NaN   NaN  70.0  60.0"
      ]
     },
     "execution_count": 64,
     "metadata": {},
     "output_type": "execute_result"
    }
   ],
   "source": [
    "df.insert(0,'apple',[3,4,5])\n",
    "df"
   ]
  },
  {
   "cell_type": "code",
   "execution_count": 65,
   "id": "cf5d2e1b",
   "metadata": {},
   "outputs": [
    {
     "data": {
      "text/plain": [
       "Eyes         2\n",
       "Feets        4\n",
       "Name     Camel\n",
       "dtype: object"
      ]
     },
     "execution_count": 65,
     "metadata": {},
     "output_type": "execute_result"
    }
   ],
   "source": [
    "mul_types = pd.Series(data=[2,4,'Camel'],index=['Eyes','Feets','Name'])\n",
    "mul_types"
   ]
  },
  {
   "cell_type": "code",
   "execution_count": 66,
   "id": "90f1b9cc",
   "metadata": {},
   "outputs": [
    {
     "data": {
      "text/plain": [
       "Eyes              4\n",
       "Feets             8\n",
       "Name     CamelCamel\n",
       "dtype: object"
      ]
     },
     "execution_count": 66,
     "metadata": {},
     "output_type": "execute_result"
    }
   ],
   "source": [
    "# Now only double the integers inside mul_types Series\n",
    "# Now if we simply do the following it will concatenate the string no of times as you have multiply\n",
    "mul_types*2"
   ]
  },
  {
   "cell_type": "code",
   "execution_count": 67,
   "id": "7aa20043",
   "metadata": {},
   "outputs": [
    {
     "data": {
      "text/plain": [
       "Eyes         2\n",
       "Feets        4\n",
       "Name     Camel\n",
       "dtype: object"
      ]
     },
     "execution_count": 67,
     "metadata": {},
     "output_type": "execute_result"
    }
   ],
   "source": [
    "# Resolving the above issue of concatenation of non-integer value\n",
    "mul_types"
   ]
  },
  {
   "cell_type": "code",
   "execution_count": 68,
   "id": "87b428f0",
   "metadata": {},
   "outputs": [
    {
     "data": {
      "text/plain": [
       "2"
      ]
     },
     "execution_count": 68,
     "metadata": {},
     "output_type": "execute_result"
    }
   ],
   "source": [
    "mul_types['Eyes']"
   ]
  },
  {
   "cell_type": "code",
   "execution_count": 69,
   "id": "5d0371ae",
   "metadata": {},
   "outputs": [
    {
     "data": {
      "text/plain": [
       "Eyes         4\n",
       "Feets       16\n",
       "Name     Camel\n",
       "dtype: object"
      ]
     },
     "execution_count": 69,
     "metadata": {},
     "output_type": "execute_result"
    }
   ],
   "source": [
    "# We can look only for int types of data and take only of the int data\n",
    "for index in mul_types.index:\n",
    "    if type(mul_types[index]) == int:\n",
    "        mul_types[index] = mul_types[index]**2\n",
    "    \n",
    "mul_types"
   ]
  },
  {
   "cell_type": "markdown",
   "id": "9d23176b",
   "metadata": {},
   "source": [
    "### Minor quiz of pandas series"
   ]
  },
  {
   "cell_type": "code",
   "execution_count": 126,
   "id": "141755bb",
   "metadata": {},
   "outputs": [
    {
     "data": {
      "text/plain": [
       "[Earth       True\n",
       " Saturn     False\n",
       " Venus       True\n",
       " Mars        True\n",
       " Jupiter    False\n",
       " dtype: bool]"
      ]
     },
     "execution_count": 126,
     "metadata": {},
     "output_type": "execute_result"
    }
   ],
   "source": [
    "import pandas as pd\n",
    "\n",
    "# DO NOT CHANGE THE VARIABLE NAMES\n",
    "\n",
    "# Given a list representing a few planets\n",
    "planets = ['Earth', 'Saturn', 'Venus', 'Mars', 'Jupiter']\n",
    "\n",
    "# Given another list representing the distance of each of these planets from the Sun\n",
    "# The distance from the Sun is in units of 10^6 km\n",
    "distance_from_sun = [149.6, 1433.5, 108.2, 227.9, 778.6]\n",
    "\n",
    "\n",
    "# TO DO: Create a Pandas Series \"dist_planets\" using the lists above, representing the distance of the planet from the Sun.\n",
    "# Use the `distance_from_sun` as your data, and `planets` as your index.\n",
    "dist_planets = pd.Series(data=distance_from_sun,index=planets)\n",
    "\n",
    "\n",
    "# TO DO: Calculate the time (minutes) it takes light from the Sun to reach each planet. \n",
    "# You can do this by dividing each planet's distance from the Sun by the speed of light.\n",
    "# Use the speed of light, c = 18, since light travels 18 x 10^6 km/minute.\n",
    "\n",
    "# time_light = [distance/c for distance in dist_planets]\n",
    "time_light = dist_planets/18\n",
    "\n",
    "\n",
    "# # TO DO: Use Boolean indexing to select only those planets for which sunlight takes less\n",
    "# # than 40 minutes to reach them.\n",
    "\n",
    "# list(filter(lambda x:x<40.0,time_light))\n",
    "\n",
    "# # We'll check your work by printing out these close planets.\n",
    "close_planets = [time_light<40]\n",
    "close_planets\n"
   ]
  }
 ],
 "metadata": {
  "kernelspec": {
   "display_name": "Python 3 (ipykernel)",
   "language": "python",
   "name": "python3"
  },
  "language_info": {
   "codemirror_mode": {
    "name": "ipython",
    "version": 3
   },
   "file_extension": ".py",
   "mimetype": "text/x-python",
   "name": "python",
   "nbconvert_exporter": "python",
   "pygments_lexer": "ipython3",
   "version": "3.10.8"
  }
 },
 "nbformat": 4,
 "nbformat_minor": 5
}
